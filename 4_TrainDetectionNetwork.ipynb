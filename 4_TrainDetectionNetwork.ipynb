{
 "cells": [
  {
   "cell_type": "markdown",
   "id": "7bd6f71e-5b93-4b2b-bcd0-67d0dde29b25",
   "metadata": {},
   "source": [
    "# Train Detection Network"
   ]
  },
  {
   "cell_type": "markdown",
   "id": "69f5bbb9-e28f-4b45-84ab-61a891e40bf8",
   "metadata": {},
   "source": [
    "## Prepare Datasets"
   ]
  },
  {
   "cell_type": "code",
   "execution_count": null,
   "id": "6c7ec656-0a1d-46d7-915c-f780c449eb12",
   "metadata": {},
   "outputs": [],
   "source": [
    "# Build a whale id lookup dict with the respective probability tensors\n",
    "n = data['whaleID'].nunique()\n",
    "\n",
    "whale_id_dict = {}\n",
    "\n",
    "for idx, whale_id in enumerate(sorted(data['whaleID'].unique())):\n",
    "    tensor = torch.zeros(n)\n",
    "    tensor[idx] = 1\n",
    "    whale_id_dict[whale_id] = tensor\n",
    "\n",
    "def get_y_tensor(whale_id):\n",
    "    return whale_id_dict[whale_id]\n",
    "\n",
    "## X TODO"
   ]
  },
  {
   "cell_type": "code",
   "execution_count": null,
   "id": "d5378877-4b84-4d84-a433-7883a768520e",
   "metadata": {},
   "outputs": [],
   "source": [
    "X = []\n",
    "y = []\n",
    "\n",
    "for _, row in data.iterrows():\n",
    "    X.append(img_pred_rescale(row['Image']))\n",
    "    y.append(get_y_tensor(row['whaleID']))\n",
    "\n",
    "# Convert the lists to numpy arrays\n",
    "X = np.array(X) # 256x256 whale heads\n",
    "y = np.array(y) # Corresponding whale id tensors\n",
    "\n",
    "# Display the shape of the data\n",
    "print(f\"Shape of X: {X.shape}\")\n",
    "print(f\"Shape of X[0]: {X[0].shape}\")\n",
    "print(f\"Shape of y: {y.shape}\")\n",
    "print(f\"Shape of y[0]: {y[0].shape}\")"
   ]
  }
 ],
 "metadata": {
  "kernelspec": {
   "display_name": "Python 3 (ipykernel)",
   "language": "python",
   "name": "python3"
  },
  "language_info": {
   "codemirror_mode": {
    "name": "ipython",
    "version": 3
   },
   "file_extension": ".py",
   "mimetype": "text/x-python",
   "name": "python",
   "nbconvert_exporter": "python",
   "pygments_lexer": "ipython3",
   "version": "3.11.6"
  }
 },
 "nbformat": 4,
 "nbformat_minor": 5
}
