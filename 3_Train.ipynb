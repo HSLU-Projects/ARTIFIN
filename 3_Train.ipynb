{
  "cells": [
    {
      "cell_type": "markdown",
      "metadata": {
        "id": "Lnq2i2ILRTd7"
      },
      "source": [
        "# 1 Data Download"
      ]
    },
    {
      "cell_type": "code",
      "execution_count": 2,
      "metadata": {
        "colab": {
          "base_uri": "https://localhost:8080/"
        },
        "id": "OeLo4xvEHd33",
        "outputId": "90c11cc0-59e7-42e4-fe98-ff2cb19f8145"
      },
      "outputs": [
        {
          "output_type": "stream",
          "name": "stdout",
          "text": [
            "Did not find ./data directory, creating one...\n",
            "Downloading train.csv to directory ./data...\n"
          ]
        },
        {
          "output_type": "stream",
          "name": "stderr",
          "text": [
            "Downloading...\n",
            "From: https://drive.google.com/uc?id=1bI6yuNlP6-NqMup_fWEouIonRfcQq9u5\n",
            "To: /content/data/train.csv\n",
            "100%|██████████| 104k/104k [00:00<00:00, 2.62MB/s]\n"
          ]
        },
        {
          "output_type": "stream",
          "name": "stdout",
          "text": [
            "./data directory exists.\n",
            "Downloading cropped.zip to directory ./data...\n"
          ]
        },
        {
          "output_type": "stream",
          "name": "stderr",
          "text": [
            "Downloading...\n",
            "From: https://drive.google.com/uc?id=17SJB_xGObAYutH0PIHAiqO1iZlcHDeIG\n",
            "To: /content/data/cropped.zip\n",
            "100%|██████████| 316M/316M [00:08<00:00, 35.9MB/s]\n"
          ]
        },
        {
          "output_type": "stream",
          "name": "stdout",
          "text": [
            "Unzipping cropped.zip to ./data/cropped/...\n",
            "./data directory exists.\n",
            "Downloading gauss.zip to directory ./data...\n"
          ]
        },
        {
          "output_type": "stream",
          "name": "stderr",
          "text": [
            "Downloading...\n",
            "From: https://drive.google.com/uc?id=1DD9zZ3o9QXjUKHwSsfjfNKziDEXv7wOq\n",
            "To: /content/data/gauss.zip\n",
            "100%|██████████| 106M/106M [00:01<00:00, 53.7MB/s]\n"
          ]
        },
        {
          "output_type": "stream",
          "name": "stdout",
          "text": [
            "Unzipping gauss.zip to ./data/gauss...\n",
            "./data directory exists.\n",
            "Downloading rotated.zip to directory ./data...\n"
          ]
        },
        {
          "output_type": "stream",
          "name": "stderr",
          "text": [
            "Downloading...\n",
            "From: https://drive.google.com/uc?id=19XikKKXhsO79nZfpyCej6GubwJKor5Gc\n",
            "To: /content/data/rotated.zip\n",
            "100%|██████████| 132M/132M [00:02<00:00, 60.8MB/s]\n"
          ]
        },
        {
          "output_type": "stream",
          "name": "stdout",
          "text": [
            "Unzipping rotated.zip to ./data/rotated...\n"
          ]
        }
      ],
      "source": [
        "# Download Dataset\n",
        "import os\n",
        "import zipfile\n",
        "import gdown\n",
        "\n",
        "def create_dir(path):\n",
        "  if os.path.isdir(path):\n",
        "      print(f\"{path} directory exists.\")\n",
        "  else:\n",
        "      print(f\"Did not find {path} directory, creating one...\")\n",
        "      os.mkdir(path, 0o666)\n",
        "\n",
        "def download_file(url, download_path, file_name):\n",
        "  create_dir(download_path)\n",
        "  file_path = os.path.join(download_path, file_name)\n",
        "  if not os.path.isfile(file_path):\n",
        "    print(f\"Downloading {file_name} to directory {download_path}...\")\n",
        "    gdown.download(url, file_path, quiet=False)\n",
        "\n",
        "def download_extract_zip(zip_url, download_path, zip_name, extraction_path):\n",
        "  if not os.path.isdir(extraction_path):\n",
        "    download_file(zip_url, download_path, zip_name)\n",
        "    zip_path = os.path.join(download_path, zip_name)\n",
        "    # Unzip data\n",
        "    with zipfile.ZipFile(zip_path, \"r\") as zip_ref:\n",
        "        print(f\"Unzipping {zip_name} to {extraction_path}...\")\n",
        "        zip_ref.extractall(extraction_path)\n",
        "  else:\n",
        "    print(f\"File {os.path.join(download_path, zip_name)} already extracted in {extraction_path}...\")\n",
        "\n",
        "# Training Data\n",
        "csv_name = 'train.csv'\n",
        "csv_url = 'https://drive.google.com/uc?id=1bI6yuNlP6-NqMup_fWEouIonRfcQq9u5'\n",
        "#filtered_csv_url = 'https://drive.google.com/uc?id=145mmpfL3q6oCTu6BNoCq0gC9yrnfd40K'\n",
        "\n",
        "base_path = './data'\n",
        "cropped_path = os.path.join(base_path, \"cropped/\")\n",
        "gauss_path = os.path.join(base_path, \"gauss\")\n",
        "rotated_path = os.path.join(base_path, \"rotated\")\n",
        "\n",
        "cropped_dataset_url = 'https://drive.google.com/uc?id=17SJB_xGObAYutH0PIHAiqO1iZlcHDeIG'\n",
        "gauss_dataset_url = 'https://drive.google.com/uc?id=1DD9zZ3o9QXjUKHwSsfjfNKziDEXv7wOq'\n",
        "rotated_dataset_url = 'https://drive.google.com/uc?id=19XikKKXhsO79nZfpyCej6GubwJKor5Gc'\n",
        "\n",
        "download_file(csv_url, base_path, csv_name)\n",
        "download_extract_zip(cropped_dataset_url, base_path, 'cropped.zip', cropped_path)\n",
        "download_extract_zip(gauss_dataset_url, base_path, 'gauss.zip', gauss_path)\n",
        "download_extract_zip(rotated_dataset_url, base_path, 'rotated.zip', rotated_path)\n",
        "\n",
        "# Fix because of subfolder in zip\n",
        "gauss_path = os.path.join(base_path, \"gauss/gaussian_images\")\n",
        "rotated_path = os.path.join(base_path, \"rotated/Rotated_images\")"
      ]
    },
    {
      "cell_type": "markdown",
      "metadata": {
        "id": "SuQLdXNnRN8H"
      },
      "source": [
        "## 2 Data Import & Preprocessing"
      ]
    },
    {
      "cell_type": "code",
      "execution_count": 3,
      "metadata": {
        "id": "idSMRUC7Rddw"
      },
      "outputs": [],
      "source": [
        "import pandas as pd\n",
        "import numpy as np\n",
        "import json\n",
        "from PIL import Image\n",
        "\n",
        "from sklearn.model_selection import train_test_split\n",
        "\n",
        "import torch\n",
        "import torch.nn as nn\n",
        "from torch.utils.data import DataLoader\n",
        "from torchvision import transforms"
      ]
    },
    {
      "cell_type": "code",
      "execution_count": 4,
      "metadata": {
        "colab": {
          "base_uri": "https://localhost:8080/",
          "height": 206
        },
        "id": "32GDbaYuRdgP",
        "outputId": "ef4cf87f-1fa0-4a3d-f947-9b443729e36d"
      },
      "outputs": [
        {
          "output_type": "execute_result",
          "data": {
            "text/plain": [
              "        Image      whaleID\n",
              "0  w_7812.jpg  whale_48813\n",
              "1  w_4598.jpg  whale_09913\n",
              "2  w_3828.jpg  whale_45062\n",
              "3  w_8734.jpg  whale_74162\n",
              "4  w_3251.jpg  whale_99558"
            ],
            "text/html": [
              "\n",
              "  <div id=\"df-38d40a74-1819-4f44-bef8-4cc70eca59e6\" class=\"colab-df-container\">\n",
              "    <div>\n",
              "<style scoped>\n",
              "    .dataframe tbody tr th:only-of-type {\n",
              "        vertical-align: middle;\n",
              "    }\n",
              "\n",
              "    .dataframe tbody tr th {\n",
              "        vertical-align: top;\n",
              "    }\n",
              "\n",
              "    .dataframe thead th {\n",
              "        text-align: right;\n",
              "    }\n",
              "</style>\n",
              "<table border=\"1\" class=\"dataframe\">\n",
              "  <thead>\n",
              "    <tr style=\"text-align: right;\">\n",
              "      <th></th>\n",
              "      <th>Image</th>\n",
              "      <th>whaleID</th>\n",
              "    </tr>\n",
              "  </thead>\n",
              "  <tbody>\n",
              "    <tr>\n",
              "      <th>0</th>\n",
              "      <td>w_7812.jpg</td>\n",
              "      <td>whale_48813</td>\n",
              "    </tr>\n",
              "    <tr>\n",
              "      <th>1</th>\n",
              "      <td>w_4598.jpg</td>\n",
              "      <td>whale_09913</td>\n",
              "    </tr>\n",
              "    <tr>\n",
              "      <th>2</th>\n",
              "      <td>w_3828.jpg</td>\n",
              "      <td>whale_45062</td>\n",
              "    </tr>\n",
              "    <tr>\n",
              "      <th>3</th>\n",
              "      <td>w_8734.jpg</td>\n",
              "      <td>whale_74162</td>\n",
              "    </tr>\n",
              "    <tr>\n",
              "      <th>4</th>\n",
              "      <td>w_3251.jpg</td>\n",
              "      <td>whale_99558</td>\n",
              "    </tr>\n",
              "  </tbody>\n",
              "</table>\n",
              "</div>\n",
              "    <div class=\"colab-df-buttons\">\n",
              "\n",
              "  <div class=\"colab-df-container\">\n",
              "    <button class=\"colab-df-convert\" onclick=\"convertToInteractive('df-38d40a74-1819-4f44-bef8-4cc70eca59e6')\"\n",
              "            title=\"Convert this dataframe to an interactive table.\"\n",
              "            style=\"display:none;\">\n",
              "\n",
              "  <svg xmlns=\"http://www.w3.org/2000/svg\" height=\"24px\" viewBox=\"0 -960 960 960\">\n",
              "    <path d=\"M120-120v-720h720v720H120Zm60-500h600v-160H180v160Zm220 220h160v-160H400v160Zm0 220h160v-160H400v160ZM180-400h160v-160H180v160Zm440 0h160v-160H620v160ZM180-180h160v-160H180v160Zm440 0h160v-160H620v160Z\"/>\n",
              "  </svg>\n",
              "    </button>\n",
              "\n",
              "  <style>\n",
              "    .colab-df-container {\n",
              "      display:flex;\n",
              "      gap: 12px;\n",
              "    }\n",
              "\n",
              "    .colab-df-convert {\n",
              "      background-color: #E8F0FE;\n",
              "      border: none;\n",
              "      border-radius: 50%;\n",
              "      cursor: pointer;\n",
              "      display: none;\n",
              "      fill: #1967D2;\n",
              "      height: 32px;\n",
              "      padding: 0 0 0 0;\n",
              "      width: 32px;\n",
              "    }\n",
              "\n",
              "    .colab-df-convert:hover {\n",
              "      background-color: #E2EBFA;\n",
              "      box-shadow: 0px 1px 2px rgba(60, 64, 67, 0.3), 0px 1px 3px 1px rgba(60, 64, 67, 0.15);\n",
              "      fill: #174EA6;\n",
              "    }\n",
              "\n",
              "    .colab-df-buttons div {\n",
              "      margin-bottom: 4px;\n",
              "    }\n",
              "\n",
              "    [theme=dark] .colab-df-convert {\n",
              "      background-color: #3B4455;\n",
              "      fill: #D2E3FC;\n",
              "    }\n",
              "\n",
              "    [theme=dark] .colab-df-convert:hover {\n",
              "      background-color: #434B5C;\n",
              "      box-shadow: 0px 1px 3px 1px rgba(0, 0, 0, 0.15);\n",
              "      filter: drop-shadow(0px 1px 2px rgba(0, 0, 0, 0.3));\n",
              "      fill: #FFFFFF;\n",
              "    }\n",
              "  </style>\n",
              "\n",
              "    <script>\n",
              "      const buttonEl =\n",
              "        document.querySelector('#df-38d40a74-1819-4f44-bef8-4cc70eca59e6 button.colab-df-convert');\n",
              "      buttonEl.style.display =\n",
              "        google.colab.kernel.accessAllowed ? 'block' : 'none';\n",
              "\n",
              "      async function convertToInteractive(key) {\n",
              "        const element = document.querySelector('#df-38d40a74-1819-4f44-bef8-4cc70eca59e6');\n",
              "        const dataTable =\n",
              "          await google.colab.kernel.invokeFunction('convertToInteractive',\n",
              "                                                    [key], {});\n",
              "        if (!dataTable) return;\n",
              "\n",
              "        const docLinkHtml = 'Like what you see? Visit the ' +\n",
              "          '<a target=\"_blank\" href=https://colab.research.google.com/notebooks/data_table.ipynb>data table notebook</a>'\n",
              "          + ' to learn more about interactive tables.';\n",
              "        element.innerHTML = '';\n",
              "        dataTable['output_type'] = 'display_data';\n",
              "        await google.colab.output.renderOutput(dataTable, element);\n",
              "        const docLink = document.createElement('div');\n",
              "        docLink.innerHTML = docLinkHtml;\n",
              "        element.appendChild(docLink);\n",
              "      }\n",
              "    </script>\n",
              "  </div>\n",
              "\n",
              "\n",
              "<div id=\"df-abc195b4-a505-4bc5-9914-29732da3b470\">\n",
              "  <button class=\"colab-df-quickchart\" onclick=\"quickchart('df-abc195b4-a505-4bc5-9914-29732da3b470')\"\n",
              "            title=\"Suggest charts\"\n",
              "            style=\"display:none;\">\n",
              "\n",
              "<svg xmlns=\"http://www.w3.org/2000/svg\" height=\"24px\"viewBox=\"0 0 24 24\"\n",
              "     width=\"24px\">\n",
              "    <g>\n",
              "        <path d=\"M19 3H5c-1.1 0-2 .9-2 2v14c0 1.1.9 2 2 2h14c1.1 0 2-.9 2-2V5c0-1.1-.9-2-2-2zM9 17H7v-7h2v7zm4 0h-2V7h2v10zm4 0h-2v-4h2v4z\"/>\n",
              "    </g>\n",
              "</svg>\n",
              "  </button>\n",
              "\n",
              "<style>\n",
              "  .colab-df-quickchart {\n",
              "      --bg-color: #E8F0FE;\n",
              "      --fill-color: #1967D2;\n",
              "      --hover-bg-color: #E2EBFA;\n",
              "      --hover-fill-color: #174EA6;\n",
              "      --disabled-fill-color: #AAA;\n",
              "      --disabled-bg-color: #DDD;\n",
              "  }\n",
              "\n",
              "  [theme=dark] .colab-df-quickchart {\n",
              "      --bg-color: #3B4455;\n",
              "      --fill-color: #D2E3FC;\n",
              "      --hover-bg-color: #434B5C;\n",
              "      --hover-fill-color: #FFFFFF;\n",
              "      --disabled-bg-color: #3B4455;\n",
              "      --disabled-fill-color: #666;\n",
              "  }\n",
              "\n",
              "  .colab-df-quickchart {\n",
              "    background-color: var(--bg-color);\n",
              "    border: none;\n",
              "    border-radius: 50%;\n",
              "    cursor: pointer;\n",
              "    display: none;\n",
              "    fill: var(--fill-color);\n",
              "    height: 32px;\n",
              "    padding: 0;\n",
              "    width: 32px;\n",
              "  }\n",
              "\n",
              "  .colab-df-quickchart:hover {\n",
              "    background-color: var(--hover-bg-color);\n",
              "    box-shadow: 0 1px 2px rgba(60, 64, 67, 0.3), 0 1px 3px 1px rgba(60, 64, 67, 0.15);\n",
              "    fill: var(--button-hover-fill-color);\n",
              "  }\n",
              "\n",
              "  .colab-df-quickchart-complete:disabled,\n",
              "  .colab-df-quickchart-complete:disabled:hover {\n",
              "    background-color: var(--disabled-bg-color);\n",
              "    fill: var(--disabled-fill-color);\n",
              "    box-shadow: none;\n",
              "  }\n",
              "\n",
              "  .colab-df-spinner {\n",
              "    border: 2px solid var(--fill-color);\n",
              "    border-color: transparent;\n",
              "    border-bottom-color: var(--fill-color);\n",
              "    animation:\n",
              "      spin 1s steps(1) infinite;\n",
              "  }\n",
              "\n",
              "  @keyframes spin {\n",
              "    0% {\n",
              "      border-color: transparent;\n",
              "      border-bottom-color: var(--fill-color);\n",
              "      border-left-color: var(--fill-color);\n",
              "    }\n",
              "    20% {\n",
              "      border-color: transparent;\n",
              "      border-left-color: var(--fill-color);\n",
              "      border-top-color: var(--fill-color);\n",
              "    }\n",
              "    30% {\n",
              "      border-color: transparent;\n",
              "      border-left-color: var(--fill-color);\n",
              "      border-top-color: var(--fill-color);\n",
              "      border-right-color: var(--fill-color);\n",
              "    }\n",
              "    40% {\n",
              "      border-color: transparent;\n",
              "      border-right-color: var(--fill-color);\n",
              "      border-top-color: var(--fill-color);\n",
              "    }\n",
              "    60% {\n",
              "      border-color: transparent;\n",
              "      border-right-color: var(--fill-color);\n",
              "    }\n",
              "    80% {\n",
              "      border-color: transparent;\n",
              "      border-right-color: var(--fill-color);\n",
              "      border-bottom-color: var(--fill-color);\n",
              "    }\n",
              "    90% {\n",
              "      border-color: transparent;\n",
              "      border-bottom-color: var(--fill-color);\n",
              "    }\n",
              "  }\n",
              "</style>\n",
              "\n",
              "  <script>\n",
              "    async function quickchart(key) {\n",
              "      const quickchartButtonEl =\n",
              "        document.querySelector('#' + key + ' button');\n",
              "      quickchartButtonEl.disabled = true;  // To prevent multiple clicks.\n",
              "      quickchartButtonEl.classList.add('colab-df-spinner');\n",
              "      try {\n",
              "        const charts = await google.colab.kernel.invokeFunction(\n",
              "            'suggestCharts', [key], {});\n",
              "      } catch (error) {\n",
              "        console.error('Error during call to suggestCharts:', error);\n",
              "      }\n",
              "      quickchartButtonEl.classList.remove('colab-df-spinner');\n",
              "      quickchartButtonEl.classList.add('colab-df-quickchart-complete');\n",
              "    }\n",
              "    (() => {\n",
              "      let quickchartButtonEl =\n",
              "        document.querySelector('#df-abc195b4-a505-4bc5-9914-29732da3b470 button');\n",
              "      quickchartButtonEl.style.display =\n",
              "        google.colab.kernel.accessAllowed ? 'block' : 'none';\n",
              "    })();\n",
              "  </script>\n",
              "</div>\n",
              "    </div>\n",
              "  </div>\n"
            ]
          },
          "metadata": {},
          "execution_count": 4
        }
      ],
      "source": [
        "# Path to the image directory and CSV file\n",
        "\n",
        "csv_file = os.path.join(base_path, csv_name)\n",
        "\n",
        "# Reading the CSV file using Pandas\n",
        "df = pd.read_csv(csv_file)\n",
        "df.head()"
      ]
    },
    {
      "cell_type": "code",
      "execution_count": 5,
      "metadata": {
        "colab": {
          "base_uri": "https://localhost:8080/",
          "height": 175
        },
        "id": "sFTFo123pV6D",
        "outputId": "364711c4-301a-4148-f7dd-6abd1994f0e4"
      },
      "outputs": [
        {
          "output_type": "execute_result",
          "data": {
            "text/plain": [
              "             Image      whaleID\n",
              "count         4544         4544\n",
              "unique        4544          447\n",
              "top     w_7812.jpg  whale_95370\n",
              "freq             1           47"
            ],
            "text/html": [
              "\n",
              "  <div id=\"df-2d387fd8-0e68-4ef4-bb33-20d44800fa0f\" class=\"colab-df-container\">\n",
              "    <div>\n",
              "<style scoped>\n",
              "    .dataframe tbody tr th:only-of-type {\n",
              "        vertical-align: middle;\n",
              "    }\n",
              "\n",
              "    .dataframe tbody tr th {\n",
              "        vertical-align: top;\n",
              "    }\n",
              "\n",
              "    .dataframe thead th {\n",
              "        text-align: right;\n",
              "    }\n",
              "</style>\n",
              "<table border=\"1\" class=\"dataframe\">\n",
              "  <thead>\n",
              "    <tr style=\"text-align: right;\">\n",
              "      <th></th>\n",
              "      <th>Image</th>\n",
              "      <th>whaleID</th>\n",
              "    </tr>\n",
              "  </thead>\n",
              "  <tbody>\n",
              "    <tr>\n",
              "      <th>count</th>\n",
              "      <td>4544</td>\n",
              "      <td>4544</td>\n",
              "    </tr>\n",
              "    <tr>\n",
              "      <th>unique</th>\n",
              "      <td>4544</td>\n",
              "      <td>447</td>\n",
              "    </tr>\n",
              "    <tr>\n",
              "      <th>top</th>\n",
              "      <td>w_7812.jpg</td>\n",
              "      <td>whale_95370</td>\n",
              "    </tr>\n",
              "    <tr>\n",
              "      <th>freq</th>\n",
              "      <td>1</td>\n",
              "      <td>47</td>\n",
              "    </tr>\n",
              "  </tbody>\n",
              "</table>\n",
              "</div>\n",
              "    <div class=\"colab-df-buttons\">\n",
              "\n",
              "  <div class=\"colab-df-container\">\n",
              "    <button class=\"colab-df-convert\" onclick=\"convertToInteractive('df-2d387fd8-0e68-4ef4-bb33-20d44800fa0f')\"\n",
              "            title=\"Convert this dataframe to an interactive table.\"\n",
              "            style=\"display:none;\">\n",
              "\n",
              "  <svg xmlns=\"http://www.w3.org/2000/svg\" height=\"24px\" viewBox=\"0 -960 960 960\">\n",
              "    <path d=\"M120-120v-720h720v720H120Zm60-500h600v-160H180v160Zm220 220h160v-160H400v160Zm0 220h160v-160H400v160ZM180-400h160v-160H180v160Zm440 0h160v-160H620v160ZM180-180h160v-160H180v160Zm440 0h160v-160H620v160Z\"/>\n",
              "  </svg>\n",
              "    </button>\n",
              "\n",
              "  <style>\n",
              "    .colab-df-container {\n",
              "      display:flex;\n",
              "      gap: 12px;\n",
              "    }\n",
              "\n",
              "    .colab-df-convert {\n",
              "      background-color: #E8F0FE;\n",
              "      border: none;\n",
              "      border-radius: 50%;\n",
              "      cursor: pointer;\n",
              "      display: none;\n",
              "      fill: #1967D2;\n",
              "      height: 32px;\n",
              "      padding: 0 0 0 0;\n",
              "      width: 32px;\n",
              "    }\n",
              "\n",
              "    .colab-df-convert:hover {\n",
              "      background-color: #E2EBFA;\n",
              "      box-shadow: 0px 1px 2px rgba(60, 64, 67, 0.3), 0px 1px 3px 1px rgba(60, 64, 67, 0.15);\n",
              "      fill: #174EA6;\n",
              "    }\n",
              "\n",
              "    .colab-df-buttons div {\n",
              "      margin-bottom: 4px;\n",
              "    }\n",
              "\n",
              "    [theme=dark] .colab-df-convert {\n",
              "      background-color: #3B4455;\n",
              "      fill: #D2E3FC;\n",
              "    }\n",
              "\n",
              "    [theme=dark] .colab-df-convert:hover {\n",
              "      background-color: #434B5C;\n",
              "      box-shadow: 0px 1px 3px 1px rgba(0, 0, 0, 0.15);\n",
              "      filter: drop-shadow(0px 1px 2px rgba(0, 0, 0, 0.3));\n",
              "      fill: #FFFFFF;\n",
              "    }\n",
              "  </style>\n",
              "\n",
              "    <script>\n",
              "      const buttonEl =\n",
              "        document.querySelector('#df-2d387fd8-0e68-4ef4-bb33-20d44800fa0f button.colab-df-convert');\n",
              "      buttonEl.style.display =\n",
              "        google.colab.kernel.accessAllowed ? 'block' : 'none';\n",
              "\n",
              "      async function convertToInteractive(key) {\n",
              "        const element = document.querySelector('#df-2d387fd8-0e68-4ef4-bb33-20d44800fa0f');\n",
              "        const dataTable =\n",
              "          await google.colab.kernel.invokeFunction('convertToInteractive',\n",
              "                                                    [key], {});\n",
              "        if (!dataTable) return;\n",
              "\n",
              "        const docLinkHtml = 'Like what you see? Visit the ' +\n",
              "          '<a target=\"_blank\" href=https://colab.research.google.com/notebooks/data_table.ipynb>data table notebook</a>'\n",
              "          + ' to learn more about interactive tables.';\n",
              "        element.innerHTML = '';\n",
              "        dataTable['output_type'] = 'display_data';\n",
              "        await google.colab.output.renderOutput(dataTable, element);\n",
              "        const docLink = document.createElement('div');\n",
              "        docLink.innerHTML = docLinkHtml;\n",
              "        element.appendChild(docLink);\n",
              "      }\n",
              "    </script>\n",
              "  </div>\n",
              "\n",
              "\n",
              "<div id=\"df-619f0909-95b5-47a6-98dc-4df31fb6610d\">\n",
              "  <button class=\"colab-df-quickchart\" onclick=\"quickchart('df-619f0909-95b5-47a6-98dc-4df31fb6610d')\"\n",
              "            title=\"Suggest charts\"\n",
              "            style=\"display:none;\">\n",
              "\n",
              "<svg xmlns=\"http://www.w3.org/2000/svg\" height=\"24px\"viewBox=\"0 0 24 24\"\n",
              "     width=\"24px\">\n",
              "    <g>\n",
              "        <path d=\"M19 3H5c-1.1 0-2 .9-2 2v14c0 1.1.9 2 2 2h14c1.1 0 2-.9 2-2V5c0-1.1-.9-2-2-2zM9 17H7v-7h2v7zm4 0h-2V7h2v10zm4 0h-2v-4h2v4z\"/>\n",
              "    </g>\n",
              "</svg>\n",
              "  </button>\n",
              "\n",
              "<style>\n",
              "  .colab-df-quickchart {\n",
              "      --bg-color: #E8F0FE;\n",
              "      --fill-color: #1967D2;\n",
              "      --hover-bg-color: #E2EBFA;\n",
              "      --hover-fill-color: #174EA6;\n",
              "      --disabled-fill-color: #AAA;\n",
              "      --disabled-bg-color: #DDD;\n",
              "  }\n",
              "\n",
              "  [theme=dark] .colab-df-quickchart {\n",
              "      --bg-color: #3B4455;\n",
              "      --fill-color: #D2E3FC;\n",
              "      --hover-bg-color: #434B5C;\n",
              "      --hover-fill-color: #FFFFFF;\n",
              "      --disabled-bg-color: #3B4455;\n",
              "      --disabled-fill-color: #666;\n",
              "  }\n",
              "\n",
              "  .colab-df-quickchart {\n",
              "    background-color: var(--bg-color);\n",
              "    border: none;\n",
              "    border-radius: 50%;\n",
              "    cursor: pointer;\n",
              "    display: none;\n",
              "    fill: var(--fill-color);\n",
              "    height: 32px;\n",
              "    padding: 0;\n",
              "    width: 32px;\n",
              "  }\n",
              "\n",
              "  .colab-df-quickchart:hover {\n",
              "    background-color: var(--hover-bg-color);\n",
              "    box-shadow: 0 1px 2px rgba(60, 64, 67, 0.3), 0 1px 3px 1px rgba(60, 64, 67, 0.15);\n",
              "    fill: var(--button-hover-fill-color);\n",
              "  }\n",
              "\n",
              "  .colab-df-quickchart-complete:disabled,\n",
              "  .colab-df-quickchart-complete:disabled:hover {\n",
              "    background-color: var(--disabled-bg-color);\n",
              "    fill: var(--disabled-fill-color);\n",
              "    box-shadow: none;\n",
              "  }\n",
              "\n",
              "  .colab-df-spinner {\n",
              "    border: 2px solid var(--fill-color);\n",
              "    border-color: transparent;\n",
              "    border-bottom-color: var(--fill-color);\n",
              "    animation:\n",
              "      spin 1s steps(1) infinite;\n",
              "  }\n",
              "\n",
              "  @keyframes spin {\n",
              "    0% {\n",
              "      border-color: transparent;\n",
              "      border-bottom-color: var(--fill-color);\n",
              "      border-left-color: var(--fill-color);\n",
              "    }\n",
              "    20% {\n",
              "      border-color: transparent;\n",
              "      border-left-color: var(--fill-color);\n",
              "      border-top-color: var(--fill-color);\n",
              "    }\n",
              "    30% {\n",
              "      border-color: transparent;\n",
              "      border-left-color: var(--fill-color);\n",
              "      border-top-color: var(--fill-color);\n",
              "      border-right-color: var(--fill-color);\n",
              "    }\n",
              "    40% {\n",
              "      border-color: transparent;\n",
              "      border-right-color: var(--fill-color);\n",
              "      border-top-color: var(--fill-color);\n",
              "    }\n",
              "    60% {\n",
              "      border-color: transparent;\n",
              "      border-right-color: var(--fill-color);\n",
              "    }\n",
              "    80% {\n",
              "      border-color: transparent;\n",
              "      border-right-color: var(--fill-color);\n",
              "      border-bottom-color: var(--fill-color);\n",
              "    }\n",
              "    90% {\n",
              "      border-color: transparent;\n",
              "      border-bottom-color: var(--fill-color);\n",
              "    }\n",
              "  }\n",
              "</style>\n",
              "\n",
              "  <script>\n",
              "    async function quickchart(key) {\n",
              "      const quickchartButtonEl =\n",
              "        document.querySelector('#' + key + ' button');\n",
              "      quickchartButtonEl.disabled = true;  // To prevent multiple clicks.\n",
              "      quickchartButtonEl.classList.add('colab-df-spinner');\n",
              "      try {\n",
              "        const charts = await google.colab.kernel.invokeFunction(\n",
              "            'suggestCharts', [key], {});\n",
              "      } catch (error) {\n",
              "        console.error('Error during call to suggestCharts:', error);\n",
              "      }\n",
              "      quickchartButtonEl.classList.remove('colab-df-spinner');\n",
              "      quickchartButtonEl.classList.add('colab-df-quickchart-complete');\n",
              "    }\n",
              "    (() => {\n",
              "      let quickchartButtonEl =\n",
              "        document.querySelector('#df-619f0909-95b5-47a6-98dc-4df31fb6610d button');\n",
              "      quickchartButtonEl.style.display =\n",
              "        google.colab.kernel.accessAllowed ? 'block' : 'none';\n",
              "    })();\n",
              "  </script>\n",
              "</div>\n",
              "    </div>\n",
              "  </div>\n"
            ]
          },
          "metadata": {},
          "execution_count": 5
        }
      ],
      "source": [
        "df.describe()"
      ]
    },
    {
      "cell_type": "markdown",
      "metadata": {
        "id": "k8XukS8GN__C"
      },
      "source": [
        "### Separate Testdata\n",
        "For the Test Dataset, only Whales are taken which occure more than once in our Train Dataset.\n",
        "\n",
        "10%: Test  \n",
        "20%: Validation  \n",
        "70%: Train"
      ]
    },
    {
      "cell_type": "code",
      "execution_count": 6,
      "metadata": {
        "colab": {
          "base_uri": "https://localhost:8080/"
        },
        "id": "WmIv0O2rNjGL",
        "outputId": "18dde055-cc7c-4de9-821b-679e6b51e742"
      },
      "outputs": [
        {
          "output_type": "stream",
          "name": "stdout",
          "text": [
            "Original Data Size: 4544\n",
            "Test Data Size: 454\n",
            "Validation Data Size: 400\n",
            "Train Data Size: 3690\n"
          ]
        }
      ],
      "source": [
        "# Count occurrences of each whaleID\n",
        "\n",
        "n_rows = df.shape[0]\n",
        "print(f\"Original Data Size: {n_rows}\")\n",
        "whale_counts = df['whaleID'].value_counts()\n",
        "\n",
        "n_test = int(0.1 * n_rows)\n",
        "print(f\"Test Data Size: {n_test}\")\n",
        "\n",
        "# Filter rows with whaleID occurring more than n times to minimize the chance of class extinction in train data\n",
        "n = 2\n",
        "filtered_df = df[df['whaleID'].isin(whale_counts[whale_counts > n].index)]\n",
        "test_df = filtered_df.sample(n=n_test, random_state=1)\n",
        "test_images = test_df['Image'].tolist()\n",
        "\n",
        "without_test_df = pd.concat([filtered_df, test_df]).drop_duplicates(keep=False)\n",
        "n_valid = int(0.1 * without_test_df.shape[0])\n",
        "print(f\"Validation Data Size: {n_valid}\")\n",
        "validation_df = without_test_df.sample(n=n_valid, random_state=1)\n",
        "\n",
        "train_df = pd.concat([df, test_df, validation_df]).drop_duplicates(keep=False)\n",
        "print(f\"Train Data Size: {train_df.shape[0]}\")\n",
        "\n",
        "# Write test.csv\n",
        "test_path = os.path.join(base_path, 'test.csv')\n",
        "df[df['Image'].isin(test_images)].to_csv(test_path, index=False)"
      ]
    },
    {
      "cell_type": "code",
      "execution_count": 7,
      "metadata": {
        "colab": {
          "base_uri": "https://localhost:8080/",
          "height": 175
        },
        "id": "CKnB8abcKw4q",
        "outputId": "82610b5e-d754-40f3-c8ab-0b03e62758fb"
      },
      "outputs": [
        {
          "output_type": "execute_result",
          "data": {
            "text/plain": [
              "             Image      whaleID\n",
              "count         3690         3690\n",
              "unique        3690          447\n",
              "top     w_7812.jpg  whale_95370\n",
              "freq             1           41"
            ],
            "text/html": [
              "\n",
              "  <div id=\"df-20d4024b-9f65-4c0b-b1a5-f197c0907614\" class=\"colab-df-container\">\n",
              "    <div>\n",
              "<style scoped>\n",
              "    .dataframe tbody tr th:only-of-type {\n",
              "        vertical-align: middle;\n",
              "    }\n",
              "\n",
              "    .dataframe tbody tr th {\n",
              "        vertical-align: top;\n",
              "    }\n",
              "\n",
              "    .dataframe thead th {\n",
              "        text-align: right;\n",
              "    }\n",
              "</style>\n",
              "<table border=\"1\" class=\"dataframe\">\n",
              "  <thead>\n",
              "    <tr style=\"text-align: right;\">\n",
              "      <th></th>\n",
              "      <th>Image</th>\n",
              "      <th>whaleID</th>\n",
              "    </tr>\n",
              "  </thead>\n",
              "  <tbody>\n",
              "    <tr>\n",
              "      <th>count</th>\n",
              "      <td>3690</td>\n",
              "      <td>3690</td>\n",
              "    </tr>\n",
              "    <tr>\n",
              "      <th>unique</th>\n",
              "      <td>3690</td>\n",
              "      <td>447</td>\n",
              "    </tr>\n",
              "    <tr>\n",
              "      <th>top</th>\n",
              "      <td>w_7812.jpg</td>\n",
              "      <td>whale_95370</td>\n",
              "    </tr>\n",
              "    <tr>\n",
              "      <th>freq</th>\n",
              "      <td>1</td>\n",
              "      <td>41</td>\n",
              "    </tr>\n",
              "  </tbody>\n",
              "</table>\n",
              "</div>\n",
              "    <div class=\"colab-df-buttons\">\n",
              "\n",
              "  <div class=\"colab-df-container\">\n",
              "    <button class=\"colab-df-convert\" onclick=\"convertToInteractive('df-20d4024b-9f65-4c0b-b1a5-f197c0907614')\"\n",
              "            title=\"Convert this dataframe to an interactive table.\"\n",
              "            style=\"display:none;\">\n",
              "\n",
              "  <svg xmlns=\"http://www.w3.org/2000/svg\" height=\"24px\" viewBox=\"0 -960 960 960\">\n",
              "    <path d=\"M120-120v-720h720v720H120Zm60-500h600v-160H180v160Zm220 220h160v-160H400v160Zm0 220h160v-160H400v160ZM180-400h160v-160H180v160Zm440 0h160v-160H620v160ZM180-180h160v-160H180v160Zm440 0h160v-160H620v160Z\"/>\n",
              "  </svg>\n",
              "    </button>\n",
              "\n",
              "  <style>\n",
              "    .colab-df-container {\n",
              "      display:flex;\n",
              "      gap: 12px;\n",
              "    }\n",
              "\n",
              "    .colab-df-convert {\n",
              "      background-color: #E8F0FE;\n",
              "      border: none;\n",
              "      border-radius: 50%;\n",
              "      cursor: pointer;\n",
              "      display: none;\n",
              "      fill: #1967D2;\n",
              "      height: 32px;\n",
              "      padding: 0 0 0 0;\n",
              "      width: 32px;\n",
              "    }\n",
              "\n",
              "    .colab-df-convert:hover {\n",
              "      background-color: #E2EBFA;\n",
              "      box-shadow: 0px 1px 2px rgba(60, 64, 67, 0.3), 0px 1px 3px 1px rgba(60, 64, 67, 0.15);\n",
              "      fill: #174EA6;\n",
              "    }\n",
              "\n",
              "    .colab-df-buttons div {\n",
              "      margin-bottom: 4px;\n",
              "    }\n",
              "\n",
              "    [theme=dark] .colab-df-convert {\n",
              "      background-color: #3B4455;\n",
              "      fill: #D2E3FC;\n",
              "    }\n",
              "\n",
              "    [theme=dark] .colab-df-convert:hover {\n",
              "      background-color: #434B5C;\n",
              "      box-shadow: 0px 1px 3px 1px rgba(0, 0, 0, 0.15);\n",
              "      filter: drop-shadow(0px 1px 2px rgba(0, 0, 0, 0.3));\n",
              "      fill: #FFFFFF;\n",
              "    }\n",
              "  </style>\n",
              "\n",
              "    <script>\n",
              "      const buttonEl =\n",
              "        document.querySelector('#df-20d4024b-9f65-4c0b-b1a5-f197c0907614 button.colab-df-convert');\n",
              "      buttonEl.style.display =\n",
              "        google.colab.kernel.accessAllowed ? 'block' : 'none';\n",
              "\n",
              "      async function convertToInteractive(key) {\n",
              "        const element = document.querySelector('#df-20d4024b-9f65-4c0b-b1a5-f197c0907614');\n",
              "        const dataTable =\n",
              "          await google.colab.kernel.invokeFunction('convertToInteractive',\n",
              "                                                    [key], {});\n",
              "        if (!dataTable) return;\n",
              "\n",
              "        const docLinkHtml = 'Like what you see? Visit the ' +\n",
              "          '<a target=\"_blank\" href=https://colab.research.google.com/notebooks/data_table.ipynb>data table notebook</a>'\n",
              "          + ' to learn more about interactive tables.';\n",
              "        element.innerHTML = '';\n",
              "        dataTable['output_type'] = 'display_data';\n",
              "        await google.colab.output.renderOutput(dataTable, element);\n",
              "        const docLink = document.createElement('div');\n",
              "        docLink.innerHTML = docLinkHtml;\n",
              "        element.appendChild(docLink);\n",
              "      }\n",
              "    </script>\n",
              "  </div>\n",
              "\n",
              "\n",
              "<div id=\"df-f8544e53-127c-4163-983e-1521f2d042b1\">\n",
              "  <button class=\"colab-df-quickchart\" onclick=\"quickchart('df-f8544e53-127c-4163-983e-1521f2d042b1')\"\n",
              "            title=\"Suggest charts\"\n",
              "            style=\"display:none;\">\n",
              "\n",
              "<svg xmlns=\"http://www.w3.org/2000/svg\" height=\"24px\"viewBox=\"0 0 24 24\"\n",
              "     width=\"24px\">\n",
              "    <g>\n",
              "        <path d=\"M19 3H5c-1.1 0-2 .9-2 2v14c0 1.1.9 2 2 2h14c1.1 0 2-.9 2-2V5c0-1.1-.9-2-2-2zM9 17H7v-7h2v7zm4 0h-2V7h2v10zm4 0h-2v-4h2v4z\"/>\n",
              "    </g>\n",
              "</svg>\n",
              "  </button>\n",
              "\n",
              "<style>\n",
              "  .colab-df-quickchart {\n",
              "      --bg-color: #E8F0FE;\n",
              "      --fill-color: #1967D2;\n",
              "      --hover-bg-color: #E2EBFA;\n",
              "      --hover-fill-color: #174EA6;\n",
              "      --disabled-fill-color: #AAA;\n",
              "      --disabled-bg-color: #DDD;\n",
              "  }\n",
              "\n",
              "  [theme=dark] .colab-df-quickchart {\n",
              "      --bg-color: #3B4455;\n",
              "      --fill-color: #D2E3FC;\n",
              "      --hover-bg-color: #434B5C;\n",
              "      --hover-fill-color: #FFFFFF;\n",
              "      --disabled-bg-color: #3B4455;\n",
              "      --disabled-fill-color: #666;\n",
              "  }\n",
              "\n",
              "  .colab-df-quickchart {\n",
              "    background-color: var(--bg-color);\n",
              "    border: none;\n",
              "    border-radius: 50%;\n",
              "    cursor: pointer;\n",
              "    display: none;\n",
              "    fill: var(--fill-color);\n",
              "    height: 32px;\n",
              "    padding: 0;\n",
              "    width: 32px;\n",
              "  }\n",
              "\n",
              "  .colab-df-quickchart:hover {\n",
              "    background-color: var(--hover-bg-color);\n",
              "    box-shadow: 0 1px 2px rgba(60, 64, 67, 0.3), 0 1px 3px 1px rgba(60, 64, 67, 0.15);\n",
              "    fill: var(--button-hover-fill-color);\n",
              "  }\n",
              "\n",
              "  .colab-df-quickchart-complete:disabled,\n",
              "  .colab-df-quickchart-complete:disabled:hover {\n",
              "    background-color: var(--disabled-bg-color);\n",
              "    fill: var(--disabled-fill-color);\n",
              "    box-shadow: none;\n",
              "  }\n",
              "\n",
              "  .colab-df-spinner {\n",
              "    border: 2px solid var(--fill-color);\n",
              "    border-color: transparent;\n",
              "    border-bottom-color: var(--fill-color);\n",
              "    animation:\n",
              "      spin 1s steps(1) infinite;\n",
              "  }\n",
              "\n",
              "  @keyframes spin {\n",
              "    0% {\n",
              "      border-color: transparent;\n",
              "      border-bottom-color: var(--fill-color);\n",
              "      border-left-color: var(--fill-color);\n",
              "    }\n",
              "    20% {\n",
              "      border-color: transparent;\n",
              "      border-left-color: var(--fill-color);\n",
              "      border-top-color: var(--fill-color);\n",
              "    }\n",
              "    30% {\n",
              "      border-color: transparent;\n",
              "      border-left-color: var(--fill-color);\n",
              "      border-top-color: var(--fill-color);\n",
              "      border-right-color: var(--fill-color);\n",
              "    }\n",
              "    40% {\n",
              "      border-color: transparent;\n",
              "      border-right-color: var(--fill-color);\n",
              "      border-top-color: var(--fill-color);\n",
              "    }\n",
              "    60% {\n",
              "      border-color: transparent;\n",
              "      border-right-color: var(--fill-color);\n",
              "    }\n",
              "    80% {\n",
              "      border-color: transparent;\n",
              "      border-right-color: var(--fill-color);\n",
              "      border-bottom-color: var(--fill-color);\n",
              "    }\n",
              "    90% {\n",
              "      border-color: transparent;\n",
              "      border-bottom-color: var(--fill-color);\n",
              "    }\n",
              "  }\n",
              "</style>\n",
              "\n",
              "  <script>\n",
              "    async function quickchart(key) {\n",
              "      const quickchartButtonEl =\n",
              "        document.querySelector('#' + key + ' button');\n",
              "      quickchartButtonEl.disabled = true;  // To prevent multiple clicks.\n",
              "      quickchartButtonEl.classList.add('colab-df-spinner');\n",
              "      try {\n",
              "        const charts = await google.colab.kernel.invokeFunction(\n",
              "            'suggestCharts', [key], {});\n",
              "      } catch (error) {\n",
              "        console.error('Error during call to suggestCharts:', error);\n",
              "      }\n",
              "      quickchartButtonEl.classList.remove('colab-df-spinner');\n",
              "      quickchartButtonEl.classList.add('colab-df-quickchart-complete');\n",
              "    }\n",
              "    (() => {\n",
              "      let quickchartButtonEl =\n",
              "        document.querySelector('#df-f8544e53-127c-4163-983e-1521f2d042b1 button');\n",
              "      quickchartButtonEl.style.display =\n",
              "        google.colab.kernel.accessAllowed ? 'block' : 'none';\n",
              "    })();\n",
              "  </script>\n",
              "</div>\n",
              "    </div>\n",
              "  </div>\n"
            ]
          },
          "metadata": {},
          "execution_count": 7
        }
      ],
      "source": [
        "train_df.describe()"
      ]
    },
    {
      "cell_type": "markdown",
      "metadata": {
        "id": "yT77ijTRXtZz"
      },
      "source": [
        "### Add Augmentated Images to the Training Data"
      ]
    },
    {
      "cell_type": "code",
      "execution_count": 8,
      "metadata": {
        "id": "OSTZYO0jl2BP"
      },
      "outputs": [],
      "source": [
        "augmentaions = [cropped_path, gauss_path, rotated_path]\n",
        "augmented_dict = {\n",
        "    \"Image\": [],\n",
        "    \"whaleID\": []\n",
        "}\n",
        "\n",
        "for index, row in train_df.iterrows():\n",
        "  whale_id = row[\"whaleID\"]\n",
        "  img = row[\"Image\"]\n",
        "  for dir in augmentaions:\n",
        "      img_path = os.path.join(dir, img)\n",
        "      if os.path.isfile(img_path):\n",
        "        augmented_dict[\"Image\"].append(img_path)\n",
        "        augmented_dict[\"whaleID\"].append(whale_id)\n",
        "\n",
        "train_df = pd.DataFrame(augmented_dict)\n",
        "\n",
        "augmented_dict = {\n",
        "    \"Image\": [],\n",
        "    \"whaleID\": []\n",
        "}\n",
        "\n",
        "for index, row in validation_df.iterrows():\n",
        "  whale_id = row[\"whaleID\"]\n",
        "  img = row[\"Image\"]\n",
        "  for dir in augmentaions:\n",
        "      img_path = os.path.join(dir, img)\n",
        "      if os.path.isfile(img_path):\n",
        "        augmented_dict[\"Image\"].append(img_path)\n",
        "        augmented_dict[\"whaleID\"].append(whale_id)\n",
        "\n",
        "validation_df = pd.DataFrame(augmented_dict)"
      ]
    },
    {
      "cell_type": "markdown",
      "metadata": {
        "id": "pdNGpwSGYJSH"
      },
      "source": [
        "### Create Whale Lookup Dict\n",
        "key: whaleID -> whale_48813  \n",
        "value: respective tensor for that whale -> [ 0, 0, 1, 0, 0, 0 .... 0 ]"
      ]
    },
    {
      "cell_type": "code",
      "execution_count": 9,
      "metadata": {
        "colab": {
          "base_uri": "https://localhost:8080/"
        },
        "id": "BWimPKkxUXuD",
        "outputId": "8c9fd311-15a3-420c-a2e6-2c98663cff4f"
      },
      "outputs": [
        {
          "output_type": "execute_result",
          "data": {
            "text/plain": [
              "torch.Size([447])"
            ]
          },
          "metadata": {},
          "execution_count": 9
        }
      ],
      "source": [
        "# Build a whale id lookup dict with the respective probability tensors\n",
        "num_classes = len(df['whaleID'].unique())\n",
        "whale_id_dict = {}\n",
        "\n",
        "for idx, whale_id in enumerate(sorted(df['whaleID'].unique())):\n",
        "    tensor = torch.zeros(num_classes, dtype=torch.float32)\n",
        "    tensor[idx] = 1\n",
        "    whale_id_dict[whale_id] = tensor\n",
        "\n",
        "def load_image(img_name, folder):\n",
        "    img_path = os.path.join(folder, img_name)\n",
        "    if not os.path.exists(img_path):\n",
        "        return None\n",
        "    return Image.open(img_path).convert('RGB')\n",
        "\n",
        "# Sparse Tensor with only one 1 set\n",
        "whale_id_dict['whale_06967'].shape"
      ]
    },
    {
      "cell_type": "code",
      "execution_count": 10,
      "metadata": {
        "id": "2oPDi5dJUFRx"
      },
      "outputs": [],
      "source": [
        "# Write JSON to Filesystem\n",
        "json_file_path = os.path.join(base_path, 'whale_lookup.json' )\n",
        "with open(json_file_path, 'w') as json_file:\n",
        "    # Make dict serializable (tensor -> numpy array -> python list)\n",
        "    json.dump({key: value.numpy().tolist() for key, value in whale_id_dict.items()}, json_file)"
      ]
    },
    {
      "cell_type": "code",
      "execution_count": 11,
      "metadata": {
        "colab": {
          "base_uri": "https://localhost:8080/"
        },
        "id": "Bp7IahGSpQlI",
        "outputId": "adaddebe-18de-4a9b-9526-9c7e5bcb93c6"
      },
      "outputs": [
        {
          "output_type": "execute_result",
          "data": {
            "text/plain": [
              "447"
            ]
          },
          "metadata": {},
          "execution_count": 11
        }
      ],
      "source": [
        "num_classes"
      ]
    },
    {
      "cell_type": "markdown",
      "metadata": {
        "id": "ZpswSiMOWhjE"
      },
      "source": [
        "## 3 Dataset and Initialisation"
      ]
    },
    {
      "cell_type": "code",
      "execution_count": 12,
      "metadata": {
        "colab": {
          "base_uri": "https://localhost:8080/"
        },
        "id": "4ETtexZuUZiJ",
        "outputId": "0773a478-1f1f-4b09-c44f-180a94ad4cbc"
      },
      "outputs": [
        {
          "output_type": "stream",
          "name": "stdout",
          "text": [
            "Collecting efficientnet_pytorch\n",
            "  Downloading efficientnet_pytorch-0.7.1.tar.gz (21 kB)\n",
            "  Preparing metadata (setup.py) ... \u001b[?25l\u001b[?25hdone\n",
            "Requirement already satisfied: torch in /usr/local/lib/python3.10/dist-packages (from efficientnet_pytorch) (2.1.0+cu118)\n",
            "Requirement already satisfied: filelock in /usr/local/lib/python3.10/dist-packages (from torch->efficientnet_pytorch) (3.13.1)\n",
            "Requirement already satisfied: typing-extensions in /usr/local/lib/python3.10/dist-packages (from torch->efficientnet_pytorch) (4.5.0)\n",
            "Requirement already satisfied: sympy in /usr/local/lib/python3.10/dist-packages (from torch->efficientnet_pytorch) (1.12)\n",
            "Requirement already satisfied: networkx in /usr/local/lib/python3.10/dist-packages (from torch->efficientnet_pytorch) (3.2.1)\n",
            "Requirement already satisfied: jinja2 in /usr/local/lib/python3.10/dist-packages (from torch->efficientnet_pytorch) (3.1.2)\n",
            "Requirement already satisfied: fsspec in /usr/local/lib/python3.10/dist-packages (from torch->efficientnet_pytorch) (2023.6.0)\n",
            "Requirement already satisfied: triton==2.1.0 in /usr/local/lib/python3.10/dist-packages (from torch->efficientnet_pytorch) (2.1.0)\n",
            "Requirement already satisfied: MarkupSafe>=2.0 in /usr/local/lib/python3.10/dist-packages (from jinja2->torch->efficientnet_pytorch) (2.1.3)\n",
            "Requirement already satisfied: mpmath>=0.19 in /usr/local/lib/python3.10/dist-packages (from sympy->torch->efficientnet_pytorch) (1.3.0)\n",
            "Building wheels for collected packages: efficientnet_pytorch\n",
            "  Building wheel for efficientnet_pytorch (setup.py) ... \u001b[?25l\u001b[?25hdone\n",
            "  Created wheel for efficientnet_pytorch: filename=efficientnet_pytorch-0.7.1-py3-none-any.whl size=16428 sha256=8086ebb76f13724be50cda8a860f18604ffb623bdd4468cd3f64e1dd464d3057\n",
            "  Stored in directory: /root/.cache/pip/wheels/03/3f/e9/911b1bc46869644912bda90a56bcf7b960f20b5187feea3baf\n",
            "Successfully built efficientnet_pytorch\n",
            "Installing collected packages: efficientnet_pytorch\n",
            "Successfully installed efficientnet_pytorch-0.7.1\n"
          ]
        }
      ],
      "source": [
        "import torchvision.models as models\n",
        "try:\n",
        "  from efficientnet_pytorch import EfficientNet\n",
        "except Exception:\n",
        "  !pip install efficientnet_pytorch\n",
        "  from efficientnet_pytorch import EfficientNet\n",
        "\n",
        "class WhaleDataset:\n",
        "    def __init__(self, images, labels, whale_tensor_dict, transform=None):\n",
        "        self.images = images\n",
        "        self.labels = labels\n",
        "        self.whale_tensor_dict = whale_tensor_dict\n",
        "        self.transform = transform\n",
        "\n",
        "    def __len__(self):\n",
        "        return len(self.labels)\n",
        "\n",
        "    def __getitem__(self, idx):\n",
        "        img_path = self.images[idx]\n",
        "        whale_id = self.labels[idx]\n",
        "\n",
        "        try:\n",
        "            img = Image.open(img_path).convert('RGB')\n",
        "\n",
        "            if self.transform:\n",
        "                img = self.transform(img)\n",
        "\n",
        "            label = self.whale_tensor_dict[whale_id]\n",
        "            return img, label\n",
        "        except Exception as e:\n",
        "            print(e)\n",
        "            print(whale_id, img_path)\n",
        "\n",
        "class WhaleEfficientNetB4(nn.Module):\n",
        "    def __init__(self, num_classes):\n",
        "        super(WhaleEfficientNetB4, self).__init__()\n",
        "        self.efficientnet = EfficientNet.from_pretrained('efficientnet-b4')\n",
        "        # Set output dimension to num_classes\n",
        "        self.efficientnet._fc= torch.nn.Linear(\n",
        "            in_features=self.efficientnet._fc.in_features,\n",
        "            out_features=num_classes,\n",
        "            bias=True)\n",
        "\n",
        "    def forward(self, x):\n",
        "        logits = self.efficientnet(x)\n",
        "        return logits"
      ]
    },
    {
      "cell_type": "code",
      "execution_count": 13,
      "metadata": {
        "id": "ZIRPFly3r3oU"
      },
      "outputs": [],
      "source": [
        "from sklearn.model_selection import train_test_split\n",
        "\n",
        "batch_size = 40\n",
        "\n",
        "# Define transformations\n",
        "transform = transforms.Compose([\n",
        "        transforms.Resize((256,256)),\n",
        "        transforms.ToTensor()\n",
        "])\n",
        "\n",
        "\n",
        "# Create dataset and dataloaders\n",
        "train_dataset = WhaleDataset(train_df[\"Image\"].tolist(), train_df[\"whaleID\"].tolist(), whale_id_dict, transform)\n",
        "valid_dataset = WhaleDataset(validation_df[\"Image\"].tolist(), validation_df[\"whaleID\"].tolist(), whale_id_dict, transform)\n",
        "train_loader = DataLoader(train_dataset, batch_size=batch_size)\n",
        "valid_loader = DataLoader(valid_dataset, batch_size=batch_size)"
      ]
    },
    {
      "cell_type": "code",
      "execution_count": 14,
      "metadata": {
        "colab": {
          "base_uri": "https://localhost:8080/"
        },
        "id": "vnOAmEkusoTu",
        "outputId": "2ca4e596-f5e6-4150-854d-2ed6550da94d"
      },
      "outputs": [
        {
          "output_type": "stream",
          "name": "stderr",
          "text": [
            "Downloading: \"https://github.com/lukemelas/EfficientNet-PyTorch/releases/download/1.0/efficientnet-b4-6ed6700e.pth\" to /root/.cache/torch/hub/checkpoints/efficientnet-b4-6ed6700e.pth\n",
            "100%|██████████| 74.4M/74.4M [00:00<00:00, 236MB/s]\n"
          ]
        },
        {
          "output_type": "stream",
          "name": "stdout",
          "text": [
            "Loaded pretrained weights for efficientnet-b4\n"
          ]
        }
      ],
      "source": [
        "device = torch.device('cuda' if torch.cuda.is_available() else 'cpu')\n",
        "num_epochs = 10\n",
        "learning_rate = 2.5e-4\n",
        "\n",
        "model = WhaleEfficientNetB4(num_classes).to(device)\n",
        "\n",
        "# Loss and optimizer\n",
        "criterion = nn.BCEWithLogitsLoss()\n",
        "optimizer = torch.optim.Adam(model.parameters(), lr=learning_rate)"
      ]
    },
    {
      "cell_type": "markdown",
      "metadata": {
        "id": "dt06EiLtgISx"
      },
      "source": [
        "### Evaluation Methods"
      ]
    },
    {
      "cell_type": "code",
      "execution_count": 15,
      "metadata": {
        "id": "8y7MoChzJXyD"
      },
      "outputs": [],
      "source": [
        "def get_one_hot_matrix(logits, labels):\n",
        "    # Create a new tensor with zeros\n",
        "    one_hot_max = torch.zeros_like(logits)\n",
        "    # Find the index of the maximum value along dimension 1\n",
        "    max_index = torch.argmax(logits, dim=1)\n",
        "    # Set the maximum value to 1\n",
        "    return one_hot_max.scatter_(1, max_index.unsqueeze(1), 1)\n",
        "\n",
        "def check_correct(logits, labels):\n",
        "    # Create a new tensor with zeros\n",
        "    one_hot_max = torch.zeros_like(logits)\n",
        "    # Find the index of the maximum value along dimension 1\n",
        "    max_index = torch.argmax(logits, dim=1)\n",
        "    # Set the maximum value to 1\n",
        "    one_hot_vector = one_hot_max.scatter_(1, max_index.unsqueeze(1), 1)\n",
        "    return (torch.all(one_hot_vector == labels, dim=1)).sum().item()"
      ]
    },
    {
      "cell_type": "code",
      "execution_count": 16,
      "metadata": {
        "id": "OFyE6ZTgXKoz"
      },
      "outputs": [],
      "source": [
        "class EarlyStopping:\n",
        "    def __init__(self, tolerance=5, min_delta=0):\n",
        "\n",
        "        self.tolerance = tolerance\n",
        "        self.min_delta = min_delta\n",
        "        self.counter = 0\n",
        "        self.early_stop = False\n",
        "\n",
        "    def __call__(self, train_loss, validation_loss):\n",
        "        if (validation_loss - train_loss) > self.min_delta:\n",
        "            self.counter +=1\n",
        "            if self.counter >= self.tolerance:\n",
        "                self.early_stop = True\n",
        "\n",
        "early_stopping = EarlyStopping(tolerance=3, min_delta=0.01)"
      ]
    },
    {
      "cell_type": "markdown",
      "metadata": {
        "id": "9uK2xAsAgLP2"
      },
      "source": [
        "## Training"
      ]
    },
    {
      "cell_type": "code",
      "execution_count": null,
      "metadata": {
        "colab": {
          "base_uri": "https://localhost:8080/"
        },
        "id": "rzsK4UB9po5B",
        "outputId": "ed985bbc-ee33-48c3-f733-a12884db4938"
      },
      "outputs": [
        {
          "output_type": "stream",
          "name": "stderr",
          "text": [
            "\rTraining Progress:   0%|          | 0/10 [00:00<?, ?it/s]"
          ]
        },
        {
          "output_type": "stream",
          "name": "stdout",
          "text": [
            "\n",
            "Epoch [1/10], Training Loss: 0.0019, Training Accuracy: 98.3647%\n"
          ]
        },
        {
          "output_type": "stream",
          "name": "stderr",
          "text": [
            "\rTraining Progress:  10%|█         | 1/10 [05:00<45:01, 300.22s/it]"
          ]
        },
        {
          "output_type": "stream",
          "name": "stdout",
          "text": [
            "\n",
            "Epoch [1/10], Validation Loss: 0.0133, Validation Accuracy: 19.3333%\n",
            "\n",
            "Epoch [2/10], Training Loss: 0.0011, Training Accuracy: 99.5207%\n"
          ]
        },
        {
          "output_type": "stream",
          "name": "stderr",
          "text": [
            "\rTraining Progress:  20%|██        | 2/10 [10:01<40:08, 301.08s/it]"
          ]
        },
        {
          "output_type": "stream",
          "name": "stdout",
          "text": [
            "\n",
            "Epoch [2/10], Validation Loss: 0.0136, Validation Accuracy: 20.4167%\n"
          ]
        }
      ],
      "source": [
        "from tqdm import tqdm\n",
        "\n",
        "training_loss = []\n",
        "validation_loss = []\n",
        "training_accuracy = []\n",
        "validation_accuruacy = []\n",
        "\n",
        "for epoch in tqdm(range(num_epochs), desc='Training Progress'):\n",
        "    # Training\n",
        "    model.to(device)\n",
        "    model.train()\n",
        "    train_loss = []\n",
        "    train_acc = []\n",
        "\n",
        "    for i, (images, labels) in enumerate(train_loader):\n",
        "        # Move tensors to the configured device\n",
        "        images = images.to(device)\n",
        "        labels = labels.to(device)\n",
        "\n",
        "        # Forward pass\n",
        "        logits = model(images)\n",
        "        loss = criterion(logits, labels)\n",
        "\n",
        "        # Backward and optimize\n",
        "        optimizer.zero_grad()\n",
        "        loss.backward()\n",
        "        optimizer.step()\n",
        "\n",
        "        # Calculate training accuracy and loss\n",
        "        train_loss.append(loss.item())\n",
        "        train_acc.append(check_correct(logits, labels) / len(logits))\n",
        "\n",
        "    epoch_train_loss = sum(train_loss) / len(train_loss)\n",
        "    epoch_train_acc = sum(train_acc) / len(train_acc)\n",
        "    training_loss.append(epoch_train_loss)\n",
        "    training_accuracy.append(epoch_train_acc)\n",
        "\n",
        "    print('\\nEpoch [{}/{}], Training Loss: {:.4f}, Training Accuracy: {:.4%}'.format(epoch+1, num_epochs, epoch_train_loss, epoch_train_acc))\n",
        "\n",
        "    # Validation\n",
        "    model.eval()\n",
        "    valid_loss = []\n",
        "    valid_acc = []\n",
        "\n",
        "    with torch.no_grad():\n",
        "        for i, (images, labels) in enumerate(valid_loader):\n",
        "            # Move tensors to the configured device\n",
        "            images = images.to(device)\n",
        "            labels = labels.to(device)\n",
        "\n",
        "            # Forward pass\n",
        "            logits = model(images)\n",
        "            loss = criterion(logits, labels)\n",
        "\n",
        "            # Calculate training accuracy and loss\n",
        "            valid_loss.append(loss.item())\n",
        "            valid_acc.append(check_correct(logits, labels) / len(logits))\n",
        "\n",
        "    # Print validation statistics\n",
        "    epoch_valid_loss = sum(valid_loss) / len(valid_loss)\n",
        "    epoch_valid_acc = sum(valid_acc) / len(valid_acc)\n",
        "    validation_loss.append(epoch_valid_loss)\n",
        "    validation_accuruacy.append(epoch_valid_acc)\n",
        "\n",
        "    print('\\nEpoch [{}/{}], Validation Loss: {:.4f}, Validation Accuracy: {:.4%}'.format(epoch+1, num_epochs, epoch_valid_loss, epoch_valid_acc))"
      ]
    },
    {
      "cell_type": "code",
      "execution_count": null,
      "metadata": {
        "id": "TSKEDUgUdjEv",
        "colab": {
          "base_uri": "https://localhost:8080/",
          "height": 507
        },
        "outputId": "f25b37e9-bcbf-4656-a6fc-14a4d432c213"
      },
      "outputs": [
        {
          "output_type": "display_data",
          "data": {
            "text/plain": [
              "<Figure size 1200x500 with 2 Axes>"
            ],
            "image/png": "[encoded data removed]"
          },
          "metadata": {}
        }
      ],
      "source": [
        "import matplotlib.pyplot as plt\n",
        "\n",
        "def plot_loss_and_accuracy(num_epochs, training_loss, validation_loss, training_accuracy, validation_accuracy, learning_rate):\n",
        "\n",
        "    fig, axs = plt.subplots(1, 2, figsize=(12, 5))\n",
        "    epochs = range(1, num_epochs + 1)\n",
        "\n",
        "    # Plot Loss\n",
        "    axs[0].plot(epochs, training_loss, label='Training Loss')\n",
        "    axs[0].plot(epochs, validation_loss, label='Validation Loss')\n",
        "    axs[0].set_title(f'EfficientNet-b4@LR{learning_rate}')\n",
        "    axs[0].set_xlabel('Epochs')\n",
        "    axs[0].set_ylabel('Loss')\n",
        "    axs[0].legend()\n",
        "\n",
        "    # Plot Accuracy\n",
        "    axs[1].plot(epochs, [acc * 100 for acc in training_accuracy], label='Training Accuracy')\n",
        "    axs[1].plot(epochs, [acc * 100 for acc in validation_accuracy], label='Validation Accuracy')\n",
        "    axs[1].set_title(f'EfficientNet-b4@LR{learning_rate}')\n",
        "    axs[1].set_xlabel('Epochs')\n",
        "    axs[1].set_ylabel('Accuracy [%]')\n",
        "    axs[1].legend()\n",
        "\n",
        "    plt.tight_layout()  # Ensures proper spacing between subplots\n",
        "    plt.show()\n",
        "\n",
        "# Example usage:\n",
        "plot_loss_and_accuracy(num_epochs, training_loss, validation_loss, training_accuracy, validation_accuruacy, learning_rate)"
      ]
    },
    {
      "cell_type": "markdown",
      "metadata": {
        "id": "OOg_Hb1bb_wi"
      },
      "source": [
        "## Save Model"
      ]
    },
    {
      "cell_type": "code",
      "execution_count": null,
      "metadata": {
        "id": "G1XbRXrGNs20",
        "colab": {
          "base_uri": "https://localhost:8080/"
        },
        "outputId": "761f80a9-3cd4-4ebe-b4a8-680e3d9e3c5a"
      },
      "outputs": [
        {
          "output_type": "stream",
          "name": "stdout",
          "text": [
            "Mounted at /content/drive\n"
          ]
        }
      ],
      "source": [
        "from google.colab import drive\n",
        "drive.mount('/content/drive')"
      ]
    },
    {
      "cell_type": "code",
      "execution_count": null,
      "metadata": {
        "id": "JqHbNC1KOTFU",
        "colab": {
          "base_uri": "https://localhost:8080/"
        },
        "outputId": "531c83f6-bc41-4ddb-802c-917a4e393b1c"
      },
      "outputs": [
        {
          "output_type": "stream",
          "name": "stdout",
          "text": [
            "WhaleEfficientNetB4.pt\n"
          ]
        }
      ],
      "source": [
        "# TODO: Save to your Google Drive!\n",
        "!ls \"/content/drive/MyDrive/AI Project/models\""
      ]
    },
    {
      "cell_type": "code",
      "execution_count": null,
      "metadata": {
        "id": "RVutLvrDszQi"
      },
      "outputs": [],
      "source": [
        "model_save_name = 'WhaleEfficientNetB4.pt'\n",
        "path = f\"/content/drive/MyDrive/AI Project/models/{model_save_name}\"\n",
        "torch.save(model.state_dict(), path)"
      ]
    },
    {
      "cell_type": "markdown",
      "metadata": {
        "id": "C-Xf3fVfaGSh"
      },
      "source": [
        "## Testing"
      ]
    },
    {
      "cell_type": "code",
      "execution_count": 17,
      "metadata": {
        "id": "cprBOSNwav6o"
      },
      "outputs": [],
      "source": [
        "test_df = df[df['Image'].isin(test_images)]\n",
        "test_dataset = WhaleDataset(list(test_df[\"Image\"].values), list(test_df[\"whaleID\"].values), whale_id_dict, transform)\n",
        "test_loader = DataLoader(train_dataset, batch_size=batch_size)"
      ]
    },
    {
      "cell_type": "code",
      "execution_count": 18,
      "metadata": {
        "id": "m8g8ZVCnszN_",
        "colab": {
          "base_uri": "https://localhost:8080/"
        },
        "outputId": "c478398b-20ad-447e-8dce-5f826cdc6611"
      },
      "outputs": [
        {
          "output_type": "stream",
          "name": "stdout",
          "text": [
            "Test Dataset 454 Accuracy: 0.20% F1-Score: 0.00 \n"
          ]
        }
      ],
      "source": [
        "from sklearn.metrics import f1_score\n",
        "\n",
        "model.eval()\n",
        "all_labels = []\n",
        "all_predictions = []\n",
        "\n",
        "with torch.no_grad():\n",
        "    running_acc = []\n",
        "    running_f1 = []\n",
        "    for images, labels in test_loader:\n",
        "        images = images.to(device)\n",
        "        labels = labels.to(device)\n",
        "        logits = model(images)\n",
        "        running_acc.append(check_correct(logits, labels) / labels.size(0))\n",
        "        ohm = get_one_hot_matrix(logits, labels).cpu()\n",
        "        running_f1.append(f1_score(labels.cpu(), ohm, average='micro'))\n",
        "        all_labels.append(labels.cpu().argmax(dim=1).numpy())\n",
        "        all_predictions.append(ohm.argmax(dim=1).numpy())\n",
        "    total_acc = sum(running_acc) / len(test_loader)\n",
        "    total_f1 = sum(running_f1) / len(test_loader)\n",
        "    print('Test Dataset {} Accuracy: {:.2f}% F1-Score: {:.2f} '.format(test_df.shape[0], total_acc * 100, total_f1))"
      ]
    },
    {
      "cell_type": "code",
      "execution_count": 19,
      "metadata": {
        "id": "uFseqSgxcM9c",
        "colab": {
          "base_uri": "https://localhost:8080/",
          "height": 246
        },
        "outputId": "8aae87a2-1ed4-4d40-8155-6f0eb0c9049c"
      },
      "outputs": [
        {
          "output_type": "error",
          "ename": "NameError",
          "evalue": "ignored",
          "traceback": [
            "\u001b[0;31m---------------------------------------------------------------------------\u001b[0m",
            "\u001b[0;31mNameError\u001b[0m                                 Traceback (most recent call last)",
            "\u001b[0;32m<ipython-input-19-16894f031991>\u001b[0m in \u001b[0;36m<cell line: 9>\u001b[0;34m()\u001b[0m\n\u001b[1;32m      7\u001b[0m \u001b[0;31m# Compute confusion matrix\u001b[0m\u001b[0;34m\u001b[0m\u001b[0;34m\u001b[0m\u001b[0m\n\u001b[1;32m      8\u001b[0m \u001b[0mconfusion_mat\u001b[0m \u001b[0;34m=\u001b[0m \u001b[0mconfusion_matrix\u001b[0m\u001b[0;34m(\u001b[0m\u001b[0mlabels\u001b[0m\u001b[0;34m,\u001b[0m \u001b[0mpredictions\u001b[0m\u001b[0;34m,\u001b[0m \u001b[0mlabels\u001b[0m\u001b[0;34m=\u001b[0m\u001b[0mlist\u001b[0m\u001b[0;34m(\u001b[0m\u001b[0mrange\u001b[0m\u001b[0;34m(\u001b[0m\u001b[0mnum_classes\u001b[0m \u001b[0;34m+\u001b[0m \u001b[0;36m1\u001b[0m\u001b[0;34m)\u001b[0m\u001b[0;34m)\u001b[0m\u001b[0;34m)\u001b[0m\u001b[0;34m\u001b[0m\u001b[0;34m\u001b[0m\u001b[0m\n\u001b[0;32m----> 9\u001b[0;31m \u001b[0mplt\u001b[0m\u001b[0;34m.\u001b[0m\u001b[0mfigure\u001b[0m\u001b[0;34m(\u001b[0m\u001b[0mfigsize\u001b[0m\u001b[0;34m=\u001b[0m\u001b[0;34m(\u001b[0m\u001b[0;36m32\u001b[0m\u001b[0;34m,\u001b[0m \u001b[0;36m24\u001b[0m\u001b[0;34m)\u001b[0m\u001b[0;34m)\u001b[0m\u001b[0;34m\u001b[0m\u001b[0;34m\u001b[0m\u001b[0m\n\u001b[0m\u001b[1;32m     10\u001b[0m \u001b[0msns\u001b[0m\u001b[0;34m.\u001b[0m\u001b[0mheatmap\u001b[0m\u001b[0;34m(\u001b[0m\u001b[0mconfusion_mat\u001b[0m\u001b[0;34m,\u001b[0m \u001b[0mcmap\u001b[0m\u001b[0;34m=\u001b[0m\u001b[0;34m\"YlGnBu\"\u001b[0m\u001b[0;34m,\u001b[0m \u001b[0mlinewidths\u001b[0m\u001b[0;34m=\u001b[0m\u001b[0;36m0.0\u001b[0m\u001b[0;34m)\u001b[0m\u001b[0;34m\u001b[0m\u001b[0;34m\u001b[0m\u001b[0m\n\u001b[1;32m     11\u001b[0m \u001b[0mplt\u001b[0m\u001b[0;34m.\u001b[0m\u001b[0mxlabel\u001b[0m\u001b[0;34m(\u001b[0m\u001b[0;34m'Predicted labels'\u001b[0m\u001b[0;34m)\u001b[0m\u001b[0;34m\u001b[0m\u001b[0;34m\u001b[0m\u001b[0m\n",
            "\u001b[0;31mNameError\u001b[0m: name 'plt' is not defined"
          ]
        }
      ],
      "source": [
        "import seaborn as sns\n",
        "from sklearn.metrics import confusion_matrix\n",
        "\n",
        "labels = np.concatenate(all_predictions)\n",
        "predictions = np.concatenate(all_predictions)\n",
        "\n",
        "# Compute confusion matrix\n",
        "confusion_mat = confusion_matrix(labels, predictions, labels=list(range(num_classes + 1)))\n",
        "plt.figure(figsize=(32, 24))\n",
        "sns.heatmap(confusion_mat, cmap=\"YlGnBu\", linewidths=0.0)\n",
        "plt.xlabel('Predicted labels')\n",
        "plt.ylabel('True labels')\n",
        "plt.title('Confusion Matrix')\n",
        "plt.savefig('./data/confusion_matrix.png')"
      ]
    }
  ],
  "metadata": {
    "accelerator": "GPU",
    "colab": {
      "provenance": [],
      "gpuType": "T4"
    },
    "kernelspec": {
      "display_name": "Python 3",
      "name": "python3"
    },
    "language_info": {
      "name": "python"
    }
  },
  "nbformat": 4,
  "nbformat_minor": 0
}