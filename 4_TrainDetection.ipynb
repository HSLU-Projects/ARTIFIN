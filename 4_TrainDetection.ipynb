{
 "cells": [
  {
   "cell_type": "markdown",
   "metadata": {
    "id": "Lnq2i2ILRTd7"
   },
   "source": [
    "# 1 Data Download"
   ]
  },
  {
   "cell_type": "code",
   "execution_count": 1,
   "metadata": {
    "colab": {
     "base_uri": "https://localhost:8080/"
    },
    "executionInfo": {
     "elapsed": 841,
     "status": "ok",
     "timestamp": 1700728250434,
     "user": {
      "displayName": "Benjamin Herger",
      "userId": "18283134115769427003"
     },
     "user_tz": -60
    },
    "id": "_cl4pisTNcLB",
    "outputId": "4639e1a3-ca3d-49ab-efc4-99970ce48927"
   },
   "outputs": [
    {
     "name": "stdout",
     "output_type": "stream",
     "text": [
      "data/rotated_cropped directory exists.\n"
     ]
    }
   ],
   "source": [
    "# Download Dataset\n",
    "import requests\n",
    "import zipfile\n",
    "from pathlib import Path\n",
    "import gdown\n",
    "\n",
    "# Setup paths and folders names and urls\n",
    "data_path = Path(\"data/\")\n",
    "image_path = data_path / \"rotated_cropped/\"\n",
    "\n",
    "dataset_url = 'https://drive.google.com/uc?id=1M_UZ1tfAyssGO5_L1K2nMa-YFS4c-xMT'\n",
    "train_url = 'https://drive.google.com/uc?id=1bI6yuNlP6-NqMup_fWEouIonRfcQq9u5'\n",
    "\n",
    "\n",
    "# If the image folder doesn't exist, download it\n",
    "if image_path.is_dir():\n",
    "    print(f\"{image_path} directory exists.\")\n",
    "else:\n",
    "    print(f\"Did not find {image_path} directory, creating one...\")\n",
    "    data_path.mkdir(parents=True, exist_ok=True)\n",
    "\n",
    "    print(\"Downloading train.csv...\")\n",
    "    gdown.download(train_url, str(data_path / \"train.csv\"), quiet=False)\n",
    "\n",
    "    print(\"Downloading Dataset...\")\n",
    "    zip_path = str(data_path / \"rotated_cropped.zip\")\n",
    "    gdown.download(dataset_url, zip_path, quiet=False)\n",
    "\n",
    "    # Unzip data\n",
    "    with zipfile.ZipFile(zip_path, \"r\") as zip_ref:\n",
    "        print(\"Unzipping dataset data...\")\n",
    "        zip_ref.extractall(image_path)"
   ]
  },
  {
   "cell_type": "code",
   "execution_count": 2,
   "metadata": {
    "colab": {
     "base_uri": "https://localhost:8080/"
    },
    "executionInfo": {
     "elapsed": 3699,
     "status": "ok",
     "timestamp": 1700728254128,
     "user": {
      "displayName": "Benjamin Herger",
      "userId": "18283134115769427003"
     },
     "user_tz": -60
    },
    "id": "I2QOO_HSk3ms",
    "outputId": "95a60a12-f63c-4504-eb43-21e9b89676ba"
   },
   "outputs": [
    {
     "name": "stdout",
     "output_type": "stream",
     "text": [
      "Mounted at /content/gdrive\n"
     ]
    }
   ],
   "source": [
    "from google.colab import drive\n",
    "drive.mount('/content/gdrive')"
   ]
  },
  {
   "cell_type": "markdown",
   "metadata": {
    "id": "SuQLdXNnRN8H"
   },
   "source": [
    "## 2 Data Import"
   ]
  },
  {
   "cell_type": "code",
   "execution_count": 3,
   "metadata": {
    "executionInfo": {
     "elapsed": 17365,
     "status": "ok",
     "timestamp": 1700728271490,
     "user": {
      "displayName": "Benjamin Herger",
      "userId": "18283134115769427003"
     },
     "user_tz": -60
    },
    "id": "idSMRUC7Rddw"
   },
   "outputs": [],
   "source": [
    "import pandas as pd\n",
    "import numpy as np\n",
    "import io\n",
    "import os\n",
    "\n",
    "import torch\n",
    "from torch import nn, optim\n",
    "from torch.utils.data import DataLoader\n",
    "from torchvision import transforms\n",
    "try:\n",
    "  from efficientnet_pytorch import EfficientNet\n",
    "except Exception:\n",
    "  !pip install efficientnet_pytorch\n",
    "  from efficientnet_pytorch import EfficientNet\n",
    "from sklearn.model_selection import train_test_split\n",
    "import pandas as pd\n",
    "from PIL import Image"
   ]
  },
  {
   "cell_type": "code",
   "execution_count": 4,
   "metadata": {
    "colab": {
     "base_uri": "https://localhost:8080/",
     "height": 206
    },
    "executionInfo": {
     "elapsed": 15,
     "status": "ok",
     "timestamp": 1700728271490,
     "user": {
      "displayName": "Benjamin Herger",
      "userId": "18283134115769427003"
     },
     "user_tz": -60
    },
    "id": "32GDbaYuRdgP",
    "outputId": "f50ed5bb-e155-4def-c2a2-03fde7eb7ed1"
   },
   "outputs": [
    {
     "data": {
      "text/html": [
       "\n",
       "  <div id=\"df-80e9fbcf-f493-439c-abd1-91992334a7e9\" class=\"colab-df-container\">\n",
       "    <div>\n",
       "<style scoped>\n",
       "    .dataframe tbody tr th:only-of-type {\n",
       "        vertical-align: middle;\n",
       "    }\n",
       "\n",
       "    .dataframe tbody tr th {\n",
       "        vertical-align: top;\n",
       "    }\n",
       "\n",
       "    .dataframe thead th {\n",
       "        text-align: right;\n",
       "    }\n",
       "</style>\n",
       "<table border=\"1\" class=\"dataframe\">\n",
       "  <thead>\n",
       "    <tr style=\"text-align: right;\">\n",
       "      <th></th>\n",
       "      <th>Image</th>\n",
       "      <th>whaleID</th>\n",
       "    </tr>\n",
       "  </thead>\n",
       "  <tbody>\n",
       "    <tr>\n",
       "      <th>0</th>\n",
       "      <td>w_7812.jpg</td>\n",
       "      <td>whale_48813</td>\n",
       "    </tr>\n",
       "    <tr>\n",
       "      <th>1</th>\n",
       "      <td>w_4598.jpg</td>\n",
       "      <td>whale_09913</td>\n",
       "    </tr>\n",
       "    <tr>\n",
       "      <th>2</th>\n",
       "      <td>w_3828.jpg</td>\n",
       "      <td>whale_45062</td>\n",
       "    </tr>\n",
       "    <tr>\n",
       "      <th>3</th>\n",
       "      <td>w_8734.jpg</td>\n",
       "      <td>whale_74162</td>\n",
       "    </tr>\n",
       "    <tr>\n",
       "      <th>4</th>\n",
       "      <td>w_3251.jpg</td>\n",
       "      <td>whale_99558</td>\n",
       "    </tr>\n",
       "  </tbody>\n",
       "</table>\n",
       "</div>\n",
       "    <div class=\"colab-df-buttons\">\n",
       "\n",
       "  <div class=\"colab-df-container\">\n",
       "    <button class=\"colab-df-convert\" onclick=\"convertToInteractive('df-80e9fbcf-f493-439c-abd1-91992334a7e9')\"\n",
       "            title=\"Convert this dataframe to an interactive table.\"\n",
       "            style=\"display:none;\">\n",
       "\n",
       "  <svg xmlns=\"http://www.w3.org/2000/svg\" height=\"24px\" viewBox=\"0 -960 960 960\">\n",
       "    <path d=\"M120-120v-720h720v720H120Zm60-500h600v-160H180v160Zm220 220h160v-160H400v160Zm0 220h160v-160H400v160ZM180-400h160v-160H180v160Zm440 0h160v-160H620v160ZM180-180h160v-160H180v160Zm440 0h160v-160H620v160Z\"/>\n",
       "  </svg>\n",
       "    </button>\n",
       "\n",
       "  <style>\n",
       "    .colab-df-container {\n",
       "      display:flex;\n",
       "      gap: 12px;\n",
       "    }\n",
       "\n",
       "    .colab-df-convert {\n",
       "      background-color: #E8F0FE;\n",
       "      border: none;\n",
       "      border-radius: 50%;\n",
       "      cursor: pointer;\n",
       "      display: none;\n",
       "      fill: #1967D2;\n",
       "      height: 32px;\n",
       "      padding: 0 0 0 0;\n",
       "      width: 32px;\n",
       "    }\n",
       "\n",
       "    .colab-df-convert:hover {\n",
       "      background-color: #E2EBFA;\n",
       "      box-shadow: 0px 1px 2px rgba(60, 64, 67, 0.3), 0px 1px 3px 1px rgba(60, 64, 67, 0.15);\n",
       "      fill: #174EA6;\n",
       "    }\n",
       "\n",
       "    .colab-df-buttons div {\n",
       "      margin-bottom: 4px;\n",
       "    }\n",
       "\n",
       "    [theme=dark] .colab-df-convert {\n",
       "      background-color: #3B4455;\n",
       "      fill: #D2E3FC;\n",
       "    }\n",
       "\n",
       "    [theme=dark] .colab-df-convert:hover {\n",
       "      background-color: #434B5C;\n",
       "      box-shadow: 0px 1px 3px 1px rgba(0, 0, 0, 0.15);\n",
       "      filter: drop-shadow(0px 1px 2px rgba(0, 0, 0, 0.3));\n",
       "      fill: #FFFFFF;\n",
       "    }\n",
       "  </style>\n",
       "\n",
       "    <script>\n",
       "      const buttonEl =\n",
       "        document.querySelector('#df-80e9fbcf-f493-439c-abd1-91992334a7e9 button.colab-df-convert');\n",
       "      buttonEl.style.display =\n",
       "        google.colab.kernel.accessAllowed ? 'block' : 'none';\n",
       "\n",
       "      async function convertToInteractive(key) {\n",
       "        const element = document.querySelector('#df-80e9fbcf-f493-439c-abd1-91992334a7e9');\n",
       "        const dataTable =\n",
       "          await google.colab.kernel.invokeFunction('convertToInteractive',\n",
       "                                                    [key], {});\n",
       "        if (!dataTable) return;\n",
       "\n",
       "        const docLinkHtml = 'Like what you see? Visit the ' +\n",
       "          '<a target=\"_blank\" href=https://colab.research.google.com/notebooks/data_table.ipynb>data table notebook</a>'\n",
       "          + ' to learn more about interactive tables.';\n",
       "        element.innerHTML = '';\n",
       "        dataTable['output_type'] = 'display_data';\n",
       "        await google.colab.output.renderOutput(dataTable, element);\n",
       "        const docLink = document.createElement('div');\n",
       "        docLink.innerHTML = docLinkHtml;\n",
       "        element.appendChild(docLink);\n",
       "      }\n",
       "    </script>\n",
       "  </div>\n",
       "\n",
       "\n",
       "<div id=\"df-bda74960-e3ec-4cfd-a4d8-8b3b62621500\">\n",
       "  <button class=\"colab-df-quickchart\" onclick=\"quickchart('df-bda74960-e3ec-4cfd-a4d8-8b3b62621500')\"\n",
       "            title=\"Suggest charts\"\n",
       "            style=\"display:none;\">\n",
       "\n",
       "<svg xmlns=\"http://www.w3.org/2000/svg\" height=\"24px\"viewBox=\"0 0 24 24\"\n",
       "     width=\"24px\">\n",
       "    <g>\n",
       "        <path d=\"M19 3H5c-1.1 0-2 .9-2 2v14c0 1.1.9 2 2 2h14c1.1 0 2-.9 2-2V5c0-1.1-.9-2-2-2zM9 17H7v-7h2v7zm4 0h-2V7h2v10zm4 0h-2v-4h2v4z\"/>\n",
       "    </g>\n",
       "</svg>\n",
       "  </button>\n",
       "\n",
       "<style>\n",
       "  .colab-df-quickchart {\n",
       "      --bg-color: #E8F0FE;\n",
       "      --fill-color: #1967D2;\n",
       "      --hover-bg-color: #E2EBFA;\n",
       "      --hover-fill-color: #174EA6;\n",
       "      --disabled-fill-color: #AAA;\n",
       "      --disabled-bg-color: #DDD;\n",
       "  }\n",
       "\n",
       "  [theme=dark] .colab-df-quickchart {\n",
       "      --bg-color: #3B4455;\n",
       "      --fill-color: #D2E3FC;\n",
       "      --hover-bg-color: #434B5C;\n",
       "      --hover-fill-color: #FFFFFF;\n",
       "      --disabled-bg-color: #3B4455;\n",
       "      --disabled-fill-color: #666;\n",
       "  }\n",
       "\n",
       "  .colab-df-quickchart {\n",
       "    background-color: var(--bg-color);\n",
       "    border: none;\n",
       "    border-radius: 50%;\n",
       "    cursor: pointer;\n",
       "    display: none;\n",
       "    fill: var(--fill-color);\n",
       "    height: 32px;\n",
       "    padding: 0;\n",
       "    width: 32px;\n",
       "  }\n",
       "\n",
       "  .colab-df-quickchart:hover {\n",
       "    background-color: var(--hover-bg-color);\n",
       "    box-shadow: 0 1px 2px rgba(60, 64, 67, 0.3), 0 1px 3px 1px rgba(60, 64, 67, 0.15);\n",
       "    fill: var(--button-hover-fill-color);\n",
       "  }\n",
       "\n",
       "  .colab-df-quickchart-complete:disabled,\n",
       "  .colab-df-quickchart-complete:disabled:hover {\n",
       "    background-color: var(--disabled-bg-color);\n",
       "    fill: var(--disabled-fill-color);\n",
       "    box-shadow: none;\n",
       "  }\n",
       "\n",
       "  .colab-df-spinner {\n",
       "    border: 2px solid var(--fill-color);\n",
       "    border-color: transparent;\n",
       "    border-bottom-color: var(--fill-color);\n",
       "    animation:\n",
       "      spin 1s steps(1) infinite;\n",
       "  }\n",
       "\n",
       "  @keyframes spin {\n",
       "    0% {\n",
       "      border-color: transparent;\n",
       "      border-bottom-color: var(--fill-color);\n",
       "      border-left-color: var(--fill-color);\n",
       "    }\n",
       "    20% {\n",
       "      border-color: transparent;\n",
       "      border-left-color: var(--fill-color);\n",
       "      border-top-color: var(--fill-color);\n",
       "    }\n",
       "    30% {\n",
       "      border-color: transparent;\n",
       "      border-left-color: var(--fill-color);\n",
       "      border-top-color: var(--fill-color);\n",
       "      border-right-color: var(--fill-color);\n",
       "    }\n",
       "    40% {\n",
       "      border-color: transparent;\n",
       "      border-right-color: var(--fill-color);\n",
       "      border-top-color: var(--fill-color);\n",
       "    }\n",
       "    60% {\n",
       "      border-color: transparent;\n",
       "      border-right-color: var(--fill-color);\n",
       "    }\n",
       "    80% {\n",
       "      border-color: transparent;\n",
       "      border-right-color: var(--fill-color);\n",
       "      border-bottom-color: var(--fill-color);\n",
       "    }\n",
       "    90% {\n",
       "      border-color: transparent;\n",
       "      border-bottom-color: var(--fill-color);\n",
       "    }\n",
       "  }\n",
       "</style>\n",
       "\n",
       "  <script>\n",
       "    async function quickchart(key) {\n",
       "      const quickchartButtonEl =\n",
       "        document.querySelector('#' + key + ' button');\n",
       "      quickchartButtonEl.disabled = true;  // To prevent multiple clicks.\n",
       "      quickchartButtonEl.classList.add('colab-df-spinner');\n",
       "      try {\n",
       "        const charts = await google.colab.kernel.invokeFunction(\n",
       "            'suggestCharts', [key], {});\n",
       "      } catch (error) {\n",
       "        console.error('Error during call to suggestCharts:', error);\n",
       "      }\n",
       "      quickchartButtonEl.classList.remove('colab-df-spinner');\n",
       "      quickchartButtonEl.classList.add('colab-df-quickchart-complete');\n",
       "    }\n",
       "    (() => {\n",
       "      let quickchartButtonEl =\n",
       "        document.querySelector('#df-bda74960-e3ec-4cfd-a4d8-8b3b62621500 button');\n",
       "      quickchartButtonEl.style.display =\n",
       "        google.colab.kernel.accessAllowed ? 'block' : 'none';\n",
       "    })();\n",
       "  </script>\n",
       "</div>\n",
       "    </div>\n",
       "  </div>\n"
      ],
      "text/plain": [
       "        Image      whaleID\n",
       "0  w_7812.jpg  whale_48813\n",
       "1  w_4598.jpg  whale_09913\n",
       "2  w_3828.jpg  whale_45062\n",
       "3  w_8734.jpg  whale_74162\n",
       "4  w_3251.jpg  whale_99558"
      ]
     },
     "execution_count": 4,
     "metadata": {},
     "output_type": "execute_result"
    }
   ],
   "source": [
    "# Path to the image directory and CSV file\n",
    "train_dir = \"./data/rotated_cropped\"\n",
    "csv_file = \"./data/train.csv\"\n",
    "\n",
    "# Reading the CSV file using Pandas\n",
    "data = pd.read_csv(csv_file)\n",
    "data.head()"
   ]
  },
  {
   "cell_type": "code",
   "execution_count": 5,
   "metadata": {
    "colab": {
     "base_uri": "https://localhost:8080/"
    },
    "executionInfo": {
     "elapsed": 13,
     "status": "ok",
     "timestamp": 1700728271490,
     "user": {
      "displayName": "Benjamin Herger",
      "userId": "18283134115769427003"
     },
     "user_tz": -60
    },
    "id": "BWimPKkxUXuD",
    "outputId": "e1c617bb-2ee4-4039-fb25-85ac000db395"
   },
   "outputs": [
    {
     "name": "stdout",
     "output_type": "stream",
     "text": [
      "<class 'pandas.core.frame.DataFrame'>\n",
      "Int64Index: 4206 entries, 0 to 4543\n",
      "Data columns (total 2 columns):\n",
      " #   Column   Non-Null Count  Dtype \n",
      "---  ------   --------------  ----- \n",
      " 0   Image    4206 non-null   object\n",
      " 1   whaleID  4206 non-null   object\n",
      "dtypes: object(2)\n",
      "memory usage: 98.6+ KB\n"
     ]
    }
   ],
   "source": [
    "# Build a whale id lookup dict with the respective probability tensors\n",
    "n = data['whaleID'].nunique()\n",
    "\n",
    "whale_id_dict = {}\n",
    "\n",
    "for idx, whale_id in enumerate(sorted(data['whaleID'].unique())):\n",
    "    tensor = torch.zeros(n, dtype=torch.float32)\n",
    "    tensor[idx] = 1\n",
    "    whale_id_dict[whale_id] = tensor\n",
    "\n",
    "def get_whale_tensor(whale_id):\n",
    "    return whale_id_dict[whale_id]\n",
    "\n",
    "def load_image(img_name, folder):\n",
    "    img_path = os.path.join(folder, img_name)\n",
    "    if not os.path.exists(img_path):\n",
    "        return None\n",
    "    return Image.open(img_path).convert('RGB')\n",
    "\n",
    "# Sparse Tensor with only one 1 set\n",
    "get_whale_tensor('whale_06967').shape\n",
    "\n",
    "#\n",
    "data_clean = data[data['Image'].isin(os.listdir(train_dir))]\n",
    "data_clean.info()"
   ]
  },
  {
   "cell_type": "markdown",
   "metadata": {
    "id": "ZpswSiMOWhjE"
   },
   "source": [
    "## 3 Dataset and Initialisation"
   ]
  },
  {
   "cell_type": "code",
   "execution_count": 6,
   "metadata": {
    "executionInfo": {
     "elapsed": 9,
     "status": "ok",
     "timestamp": 1700728271490,
     "user": {
      "displayName": "Benjamin Herger",
      "userId": "18283134115769427003"
     },
     "user_tz": -60
    },
    "id": "4ETtexZuUZiJ"
   },
   "outputs": [],
   "source": [
    "NUM_CLASSES = 447\n",
    "\n",
    "# Define the Dataset class\n",
    "class WhaleDataset:\n",
    "    def __init__(self, dataframe, img_folder, whale_tensor_dict, transform=None):\n",
    "        self.dataframe = dataframe\n",
    "        self.img_folder = img_folder\n",
    "        self.whale_tensor_dict = whale_tensor_dict\n",
    "        self.transform = transform\n",
    "\n",
    "    def __len__(self):\n",
    "        return len(self.dataframe)\n",
    "\n",
    "    def __getitem__(self, idx):\n",
    "        row = self.dataframe.iloc[idx]\n",
    "        image_name = row['Image']\n",
    "        whale_id = row['whaleID']\n",
    "\n",
    "        try:\n",
    "            img_path = os.path.join(self.img_folder, image_name)\n",
    "            img = Image.open(img_path).convert('RGB')\n",
    "\n",
    "            if self.transform:\n",
    "                img = self.transform(img)\n",
    "\n",
    "            label = self.whale_tensor_dict[whale_id]\n",
    "            return img, label\n",
    "        except Exception as e:\n",
    "            print(e)\n",
    "            print(whale_id, image_name)\n",
    "\n",
    "# Define the EfficientNet model\n",
    "class EfficientNetModel(nn.Module):\n",
    "    def __init__(self, num_classes=NUM_CLASSES):\n",
    "        super(EfficientNetModel, self).__init__()\n",
    "        # Use 'efficientnet-b0' as a base model\n",
    "        self.efficientnet = EfficientNet.from_pretrained('efficientnet-b0')\n",
    "\n",
    "        # Adjust the input size\n",
    "        self.efficientnet._conv_stem = nn.Conv2d(3, 32, kernel_size=(3, 3), stride=(2, 2), bias=False)\n",
    "\n",
    "        # Adjust the output layer\n",
    "        in_features = self.efficientnet._fc.in_features\n",
    "        self.efficientnet._fc = nn.Linear(in_features, num_classes)\n",
    "\n",
    "    def forward(self, x):\n",
    "        return self.efficientnet(x).softmax(dim=1)"
   ]
  },
  {
   "cell_type": "code",
   "execution_count": 7,
   "metadata": {
    "colab": {
     "base_uri": "https://localhost:8080/"
    },
    "executionInfo": {
     "elapsed": 379,
     "status": "ok",
     "timestamp": 1700728271860,
     "user": {
      "displayName": "Benjamin Herger",
      "userId": "18283134115769427003"
     },
     "user_tz": -60
    },
    "id": "vh8D4BGLUZoN",
    "outputId": "68cf77d1-2682-4e6c-d8dd-d180d3ce1f52"
   },
   "outputs": [
    {
     "name": "stdout",
     "output_type": "stream",
     "text": [
      "Loaded pretrained weights for efficientnet-b0\n"
     ]
    }
   ],
   "source": [
    "BATCH_SIZE = 24\n",
    "\n",
    "# Set random seed for reproducibility\n",
    "torch.manual_seed(42)\n",
    "torch.backends.cudnn.deterministic = True\n",
    "torch.backends.cudnn.benchmark = False\n",
    "\n",
    "# Define transformations\n",
    "transform = transforms.Compose([\n",
    "    transforms.ToTensor()\n",
    "])\n",
    "\n",
    "# Load the dataset and split it into training and validation sets\n",
    "train_data, valid_data = train_test_split(data_clean, test_size=0.2, random_state=42)\n",
    "\n",
    "# Create dataset and dataloaders\n",
    "train_dataset = WhaleDataset(train_data, train_dir, whale_id_dict, transform)\n",
    "valid_dataset = WhaleDataset(valid_data, train_dir, whale_id_dict, transform)\n",
    "train_loader = DataLoader(train_dataset, batch_size=BATCH_SIZE, shuffle=True)\n",
    "valid_loader = DataLoader(valid_dataset, batch_size=BATCH_SIZE, shuffle=False)\n",
    "\n",
    "# Initialize the model, loss function, and optimizer\n",
    "model = EfficientNetModel()\n",
    "criterion = nn.MSELoss()\n",
    "optimizer = optim.Adam(model.parameters(), lr=0.001)\n"
   ]
  },
  {
   "cell_type": "markdown",
   "metadata": {
    "id": "k0lMQf9nXUT6"
   },
   "source": [
    "### Train Model"
   ]
  },
  {
   "cell_type": "code",
   "execution_count": null,
   "metadata": {
    "id": "m-FEqxXODFOV"
   },
   "outputs": [],
   "source": [
    "NUM_EPOCHS = 10\n",
    "device = torch.device('cuda' if torch.cuda.is_available() else 'cpu')\n",
    "\n",
    "def train(model, train_loader, criterion, optimizer, num_epochs=NUM_EPOCHS, device=device):\n",
    "    model.train()\n",
    "    model.to(device)\n",
    "\n",
    "    for epoch in range(num_epochs):\n",
    "        running_loss = 0.0\n",
    "\n",
    "        for images, labels in train_loader:\n",
    "            images, labels = images.to(device), labels.to(device)\n",
    "\n",
    "            outputs = model(images)\n",
    "            loss = criterion(outputs, labels)\n",
    "            loss.backward()\n",
    "            optimizer.step()\n",
    "\n",
    "            running_loss += loss.item()\n",
    "\n",
    "        print(f\"Epoch {epoch + 1}/{num_epochs}, Loss: {running_loss / len(train_loader)}\")\n",
    "\n",
    "# Example usage\n",
    "train(model, train_loader, criterion, optimizer, num_epochs=10)"
   ]
  },
  {
   "cell_type": "code",
   "execution_count": null,
   "metadata": {
    "id": "0wS8XVuUEU8U"
   },
   "outputs": [],
   "source": [
    "throw Exception"
   ]
  },
  {
   "cell_type": "markdown",
   "metadata": {
    "id": "i9OhCWt6XaK-"
   },
   "source": [
    "### Evaluation"
   ]
  },
  {
   "cell_type": "code",
   "execution_count": null,
   "metadata": {
    "id": "b_2dqUOFUZtM"
   },
   "outputs": [],
   "source": [
    "# Validation loop\n",
    "model.eval()\n",
    "correct = 0\n",
    "total = 0\n",
    "\n",
    "with torch.no_grad():\n",
    "    for images, labels in train_loader:\n",
    "        images, labels = images.to(device), labels.to(device)\n",
    "        outputs = model(images)\n",
    "        _, predicted = outputs.max(dim=1)\n",
    "        total += labels.size(0)\n",
    "        correct += (predicted == labels).sum().item()\n",
    "\n",
    "accuracy = correct / total\n",
    "print(f\"Validation Accuracy: {accuracy * 100:.2f}%\")"
   ]
  },
  {
   "cell_type": "code",
   "execution_count": null,
   "metadata": {
    "id": "Tu7obqSYD2Fz"
   },
   "outputs": [],
   "source": [
    "inputs"
   ]
  },
  {
   "cell_type": "code",
   "execution_count": null,
   "metadata": {
    "id": "hhltkA0bDMfG"
   },
   "outputs": [],
   "source": []
  },
  {
   "cell_type": "code",
   "execution_count": null,
   "metadata": {
    "id": "eUY2Jfd1UZvj"
   },
   "outputs": [],
   "source": [
    "model_save_name = 'classifier.pt'\n",
    "path = F\"/content/{model_save_name}\"\n",
    "torch.save(model.state_dict(), path)"
   ]
  },
  {
   "cell_type": "code",
   "execution_count": null,
   "metadata": {
    "id": "N2XPpNE0UZx8"
   },
   "outputs": [],
   "source": [
    "model = EfficientNetModel(NUM_CLASSES)\n",
    "model.load_state_dict(torch.load(path))\n",
    "model.eval()"
   ]
  },
  {
   "cell_type": "code",
   "execution_count": null,
   "metadata": {
    "id": "Ig1PWm5oFFnz"
   },
   "outputs": [],
   "source": [
    "model = model.to(device)\n",
    "inputs = inputs.to(device)\n",
    "model(inputs)"
   ]
  }
 ],
 "metadata": {
  "accelerator": "GPU",
  "colab": {
   "authorship_tag": "ABX9TyM5/WX7n5AjMXONfx9AUaSp",
   "mount_file_id": "1ag8iGaPSUqdAyFuxLG9EbpEcNgPFxjTw",
   "provenance": []
  },
  "kernelspec": {
   "display_name": "Python 3 (ipykernel)",
   "language": "python",
   "name": "python3"
  },
  "language_info": {
   "codemirror_mode": {
    "name": "ipython",
    "version": 3
   },
   "file_extension": ".py",
   "mimetype": "text/x-python",
   "name": "python",
   "nbconvert_exporter": "python",
   "pygments_lexer": "ipython3",
   "version": "3.11.6"
  }
 },
 "nbformat": 4,
 "nbformat_minor": 4
}
