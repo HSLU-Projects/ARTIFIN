{
 "cells": [
  {
   "cell_type": "markdown",
   "id": "dbe70f71-ba58-424e-9021-6055a69fcf41",
   "metadata": {},
   "source": [
    "# Train Rotation Network"
   ]
  },
  {
   "cell_type": "code",
   "execution_count": null,
   "id": "62f6677f-f807-4900-bdd3-59d1eb030155",
   "metadata": {},
   "outputs": [],
   "source": []
  }
 ],
 "metadata": {
  "kernelspec": {
   "display_name": "Python 3 (ipykernel)",
   "language": "python",
   "name": "python3"
  },
  "language_info": {
   "codemirror_mode": {
    "name": "ipython",
    "version": 3
   },
   "file_extension": ".py",
   "mimetype": "text/x-python",
   "name": "python",
   "nbconvert_exporter": "python",
   "pygments_lexer": "ipython3",
   "version": "3.11.6"
  }
 },
 "nbformat": 4,
 "nbformat_minor": 5
}
